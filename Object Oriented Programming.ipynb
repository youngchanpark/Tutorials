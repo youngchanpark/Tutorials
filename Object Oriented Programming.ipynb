{
 "cells": [
  {
   "cell_type": "markdown",
   "metadata": {},
   "source": [
    "# Object Oriented Programming (OOP)\n",
    "\n",
    "Procedural Programming vs OOP\n",
    "\n",
    "The 4 pillars of OOP\n",
    "\n",
    "1. Encapsulation (캡슐화)\n",
    "2. Abstraction (추상화)\n",
    "3. Inheritance (상속)\n",
    "4. Polymorphism (다형성)"
   ]
  },
  {
   "cell_type": "markdown",
   "metadata": {},
   "source": [
    "## Encapsulation"
   ]
  },
  {
   "cell_type": "markdown",
   "metadata": {},
   "source": [
    "Keeping a distinction between objects and confining the necessary parameters to the object.  \n",
    "This reduces complexity and increases reusability.\n"
   ]
  },
  {
   "cell_type": "code",
   "execution_count": 70,
   "metadata": {},
   "outputs": [],
   "source": [
    "# Procedural way\n",
    "def 이번달_월급_입금(salary, bank, overtime=0):\n",
    "    monthly = salary/12\n",
    "    hourly = monthly/209\n",
    "    payment = round(monthly + (overtime*hourly), 2)\n",
    "    print(f'이번달 입금액: {payment}')\n",
    "    print(f'입금 후 통장 잔액: {bank + payment}')\n",
    "    return bank + payment\n",
    "\n",
    "# OOP way\n",
    "class 임직원:\n",
    "    def __init__(self, 이름, 연봉, 통장):\n",
    "        self.이름 = 이름\n",
    "        self.연봉 = 연봉\n",
    "        self.통장 = 통장\n",
    "    \n",
    "    @property\n",
    "    def 월급(self):\n",
    "        return (self.연봉/12)\n",
    "    \n",
    "    @property    \n",
    "    def 시급(self):\n",
    "        return self.월급/209\n",
    "\n",
    "    def 이번달_월급_입금(self, overtime=0):\n",
    "        입금액 = round(self.월급 + (self.시급*overtime), 2)\n",
    "        self.통장 = self.통장 + 입금액\n",
    "        print(f'이번달 입금액: {입금액}')\n",
    "        print(f'현재 통장 잔액: {self.통장}')"
   ]
  },
  {
   "cell_type": "code",
   "execution_count": 71,
   "metadata": {},
   "outputs": [
    {
     "name": "stdout",
     "output_type": "stream",
     "text": [
      "이번달 입금액: 84.53\n",
      "현재 통장 잔액: 1084.53\n",
      "이번달 입금액: 87.32\n",
      "현재 통장 잔액: 1171.85\n",
      "이번달 입금액: 84.13\n",
      "현재 통장 잔액: 1255.98\n",
      "이번달 입금액: 85.33\n",
      "현재 통장 잔액: 1341.31\n",
      "이번달 입금액: 84.93\n",
      "현재 통장 잔액: 1426.24\n"
     ]
    }
   ],
   "source": [
    "박영찬 = 임직원('박영찬', 1_000, 1_000)\n",
    "박영찬.이번달_월급_입금(3)\n",
    "박영찬.이번달_월급_입금(10)\n",
    "박영찬.이번달_월급_입금(2)\n",
    "박영찬.이번달_월급_입금(5)\n",
    "박영찬.이번달_월급_입금(4)"
   ]
  },
  {
   "cell_type": "code",
   "execution_count": 73,
   "metadata": {},
   "outputs": [
    {
     "name": "stdout",
     "output_type": "stream",
     "text": [
      "이번달 입금액: 84.53\n",
      "입금 후 통장 잔액: 1084.53\n",
      "이번달 입금액: 87.32\n",
      "입금 후 통장 잔액: 1171.85\n",
      "이번달 입금액: 84.13\n",
      "입금 후 통장 잔액: 1255.98\n",
      "이번달 입금액: 85.33\n",
      "입금 후 통장 잔액: 1341.31\n",
      "이번달 입금액: 84.93\n",
      "입금 후 통장 잔액: 1426.24\n"
     ]
    }
   ],
   "source": [
    "연봉 = 1000\n",
    "통장 = 1000\n",
    "야근시간 = 3\n",
    "\n",
    "통장 = 이번달_월급_입금(연봉, 통장, 야근시간)\n",
    "통장 = 이번달_월급_입금(연봉, 통장, 10)\n",
    "통장 = 이번달_월급_입금(연봉, 통장, 2)\n",
    "통장 = 이번달_월급_입금(연봉, 통장, 5)\n",
    "통장 = 이번달_월급_입금(연봉, 통장, 4)"
   ]
  },
  {
   "cell_type": "code",
   "execution_count": 133,
   "metadata": {},
   "outputs": [
    {
     "name": "stdout",
     "output_type": "stream",
     "text": [
      "박영찬\n",
      "이번달 입금액: 84.93\n",
      "입금 후 통장 잔액: 1084.93\n",
      "경성규\n",
      "이번달 입금액: 86.52\n",
      "입금 후 통장 잔액: 2086.52\n",
      "이청\n",
      "이번달 입금액: 169.06\n",
      "입금 후 통장 잔액: 3169.06\n",
      "신승호\n",
      "이번달 입금액: 173.05\n",
      "입금 후 통장 잔액: 4173.05\n",
      "1084.93\n",
      "2086.52\n",
      "3169.06\n",
      "4173.05\n"
     ]
    }
   ],
   "source": [
    "임직원_데이터 = {\n",
    "    '박영찬': {\n",
    "        '이름': '박영찬',\n",
    "        '연봉': 1000,\n",
    "        '통장': 1000,\n",
    "        '월급': round(1000/12, 2),\n",
    "        '시급': round((1000/12)/209, 2),\n",
    "        '야근': 4\n",
    "    },\n",
    "    '경성규': {\n",
    "        '이름': '경성규',\n",
    "        '연봉': 1000,\n",
    "        '통장': 2000,\n",
    "        '월급': round(1000/12, 2),\n",
    "        '시급': round((1000/12)/209, 2),\n",
    "        '야근': 8\n",
    "    },\n",
    "    '이청': {\n",
    "        '이름': '이청',\n",
    "        '연봉': 2000,\n",
    "        '통장': 3000,\n",
    "        '월급': round(2000/12, 2),\n",
    "        '시급': round((2000/12)/209, 2),\n",
    "        '야근': 3\n",
    "    },\n",
    "    '신승호': {\n",
    "        '이름': '신승호',\n",
    "        '연봉': 2000,\n",
    "        '통장': 4000,\n",
    "        '월급': round(2000/12, 2),\n",
    "        '시급': round((2000/12)/209, 2),\n",
    "        '야근': 8\n",
    "    }\n",
    "}\n",
    "\n",
    "for 직원, v in 임직원_데이터.items():\n",
    "    연봉 = v['연봉']\n",
    "    통장 = v['통장']\n",
    "    야근시간 = v['야근']\n",
    "    print(직원)\n",
    "    v['통장'] = 이번달_월급_입금(연봉, 통장, 야근시간)\n",
    "print(임직원_데이터['박영찬']['통장'])\n",
    "print(임직원_데이터['경성규']['통장'])\n",
    "print(임직원_데이터['이청']['통장'])\n",
    "print(임직원_데이터['신승호']['통장'])"
   ]
  },
  {
   "cell_type": "code",
   "execution_count": 135,
   "metadata": {},
   "outputs": [
    {
     "name": "stdout",
     "output_type": "stream",
     "text": [
      "박영찬\n",
      "이번달 입금액: 84.93\n",
      "현재 통장 잔액: 1084.93\n",
      "경성규\n",
      "이번달 입금액: 86.52\n",
      "현재 통장 잔액: 2086.52\n",
      "이청\n",
      "이번달 입금액: 169.06\n",
      "현재 통장 잔액: 3169.06\n",
      "신승호\n",
      "이번달 입금액: 173.05\n",
      "현재 통장 잔액: 4173.05\n",
      "1084.93\n",
      "2086.52\n",
      "3169.06\n",
      "4173.05\n"
     ]
    }
   ],
   "source": [
    "박영찬 = 임직원('박영찬', 1_000, 1_000)\n",
    "경성규 = 임직원('경성규', 1_000, 2_000)\n",
    "이청 = 임직원('이청', 2_000, 3_000)\n",
    "신승호 = 임직원('신승호', 2_000, 4_000)\n",
    "\n",
    "임직원_리스트 = [(박영찬, 4), (경성규, 8), (이청, 3), (신승호, 8)]\n",
    "\n",
    "for i in 임직원_리스트:\n",
    "    직원, 야근시간 = i\n",
    "    print(직원.이름)\n",
    "    직원.이번달_월급_입금(야근시간)\n",
    "\n",
    "print(박영찬.통장)\n",
    "print(경성규.통장)\n",
    "print(이청.통장)\n",
    "print(신승호.통장)"
   ]
  },
  {
   "cell_type": "markdown",
   "metadata": {},
   "source": [
    "연봉 인상을 할 경우엔?  \n",
    "OOP 방식을 사용했다면 연봉 인상 메소드 하나만 추가하면 끝이지만 안 했다면 엄청난 노가다와 불안감을 맛볼 것이다."
   ]
  },
  {
   "cell_type": "markdown",
   "metadata": {},
   "source": [
    ">\"The best functions are those with no parameters\"\n",
    "- Robert C. Martin"
   ]
  },
  {
   "cell_type": "markdown",
   "metadata": {},
   "source": [
    "# Abstraction"
   ]
  },
  {
   "cell_type": "markdown",
   "metadata": {},
   "source": [
    "Hiding of unneccesary interfaces to the user, reducing complexity in the usage of the API.\n",
    "\n",
    "(Isolate impact of changes?)"
   ]
  },
  {
   "cell_type": "markdown",
   "metadata": {},
   "source": [
    "## Private method (Not really)"
   ]
  },
  {
   "cell_type": "code",
   "execution_count": 147,
   "metadata": {},
   "outputs": [
    {
     "name": "stdout",
     "output_type": "stream",
     "text": [
      "updating software\n",
      "driving\n",
      "AttributeError occurred when calling: redcar.__updateSoftware()\n",
      "True\n",
      "updating software\n"
     ]
    }
   ],
   "source": [
    "# https://pythonspot.com/encapsulation/\n",
    "class Car:\n",
    "    def __init__(self):\n",
    "        self.__updateSoftware()\n",
    "\n",
    "    def drive(self):\n",
    "        print('driving')\n",
    "\n",
    "    def __updateSoftware(self):\n",
    "        print('updating software')\n",
    "        \n",
    "redcar = Car()\n",
    "redcar.drive()\n",
    "try:\n",
    "    redcar.__updateSoftware() # AttributeError! \n",
    "except AttributeError:\n",
    "    print('AttributeError occurred when calling: redcar.__updateSoftware()')\n",
    "\n",
    "# The private method (\"__updateSoftware\") is not accessible by the instance \n",
    "# (well, not by a normal name anyways).\n",
    "# Accessible like this    \n",
    "print('_Car__updateSoftware' in dir(redcar))\n",
    "redcar._Car__updateSoftware()"
   ]
  },
  {
   "cell_type": "markdown",
   "metadata": {},
   "source": [
    "## Private variables"
   ]
  },
  {
   "cell_type": "code",
   "execution_count": 129,
   "metadata": {},
   "outputs": [
    {
     "name": "stdout",
     "output_type": "stream",
     "text": [
      "driving. maxspeed 200\n",
      "10\n",
      "driving. maxspeed 200\n",
      "driving. maxspeed 300\n"
     ]
    }
   ],
   "source": [
    "class Car:\n",
    "    __maxspeed = 0\n",
    "    __type = str()\n",
    "    \n",
    "    def __init__(self, maxspeed, car_type):\n",
    "        self.__maxspeed = maxspeed\n",
    "        self.__type = car_type\n",
    "    \n",
    "    def drive(self):\n",
    "        print('driving. maxspeed ' + str(self.__maxspeed))\n",
    "\n",
    "lambo = Car(200, 'Lambo')\n",
    "lambo.drive()\n",
    "lambo.__maxspeed = 10  # will not change variable because its private\n",
    "print(lambo.__maxspeed)\n",
    "lambo.drive()\n",
    "lambo._Car__maxspeed = 300\n",
    "lambo.drive()"
   ]
  },
  {
   "cell_type": "markdown",
   "metadata": {},
   "source": [
    "Private variables are only accessible via the class/instance method.  \n",
    "Even if you define a new attribute with the same name, methods do not utilise the newly set public attribute."
   ]
  },
  {
   "cell_type": "markdown",
   "metadata": {},
   "source": [
    "## Inheritance & Polymorphism"
   ]
  },
  {
   "cell_type": "markdown",
   "metadata": {},
   "source": [
    "Inheritance: Elimination of redundancy between related objects\n",
    "\n",
    "Polymorphism: Usage of the same interfaces (e.g. methods and attributes) on objects of different types \n",
    " - Example: different instance object derived from different classes. These two instances are completely different data type or class instances, but when they share the same interfaces, they are polymorphisms of the same thing?\n",
    "\n",
    "\n",
    "\n",
    ">“When I see a bird that walks like a duck and swims like a duck and quacks like a duck, I call that bird a duck.” - James Whitcomb Riley"
   ]
  },
  {
   "cell_type": "markdown",
   "metadata": {},
   "source": [
    "### Polymorphism example"
   ]
  },
  {
   "cell_type": "code",
   "execution_count": 140,
   "metadata": {},
   "outputs": [
    {
     "name": "stdout",
     "output_type": "stream",
     "text": [
      "The shark is swimming.\n",
      "The clownfish is swimming.\n"
     ]
    }
   ],
   "source": [
    "# https://www.digitalocean.com/community/tutorials/how-to-apply-polymorphism-to-classes-in-python-3\n",
    "class Shark:\n",
    "    def swim(self):\n",
    "        print(\"The shark is swimming.\")\n",
    "\n",
    "    def swim_backwards(self):\n",
    "        print(\"The shark cannot swim backwards, but can sink backwards.\")\n",
    "\n",
    "    def skeleton(self):\n",
    "        print(\"The shark's skeleton is made of cartilage.\")\n",
    "\n",
    "\n",
    "class Clownfish:\n",
    "    def swim(self):\n",
    "        print(\"The clownfish is swimming.\")\n",
    "\n",
    "    def swim_backwards(self):\n",
    "        print(\"The clownfish can swim backwards.\")\n",
    "\n",
    "    def skeleton(self):\n",
    "        print(\"The clownfish's skeleton is made of bone.\")\n",
    "    \n",
    "shark = Shark()\n",
    "nemo = Clownfish()\n",
    "\n",
    "for fish in [shark, nemo]:\n",
    "    fish.swim()"
   ]
  },
  {
   "cell_type": "markdown",
   "metadata": {},
   "source": [
    "### Example of inheritances coupled with polymorphism"
   ]
  },
  {
   "cell_type": "code",
   "execution_count": 146,
   "metadata": {},
   "outputs": [
    {
     "name": "stdout",
     "output_type": "stream",
     "text": [
      "The shark is swimming.\n",
      "The shark can swim backwards.\n",
      "The shark's skeleton is made of cartilage.\n",
      "The clownfish is swimming.\n",
      "The clownfish can swim backwards.\n",
      "The clownfish's skeleton is made of bone.\n"
     ]
    }
   ],
   "source": [
    "class Fish:\n",
    "    _type = ''\n",
    "    _skeleton_type = ''\n",
    "    def swim(self):\n",
    "        print(f\"The {self._type} is swimming.\")\n",
    "        \n",
    "    def swim_backwards(self):\n",
    "        print(f\"The {self._type} can swim backwards.\")\n",
    "\n",
    "    def skeleton(self):\n",
    "        print(f\"The {self._type}'s skeleton is made of {self._skeleton_type}.\")\n",
    "        \n",
    "class Shark(Fish):\n",
    "    def __init__(self, name):\n",
    "        self.name = name\n",
    "        self._type = 'shark'\n",
    "        self._skeleton_type = 'cartilage'\n",
    "\n",
    "class ClownFish(Fish):\n",
    "    def __init__(self, name):\n",
    "        self.name = name\n",
    "        self._type = 'clownfish'\n",
    "        self._skeleton_type = 'bone'\n",
    "        \n",
    "shark = Shark('Shark')\n",
    "nemo = ClownFish('Nemo')\n",
    "\n",
    "for fish in [shark, nemo]:\n",
    "    fish.swim()\n",
    "    fish.swim_backwards()\n",
    "    fish.skeleton()"
   ]
  },
  {
   "cell_type": "markdown",
   "metadata": {},
   "source": [
    "## Properties & Methods"
   ]
  },
  {
   "cell_type": "code",
   "execution_count": null,
   "metadata": {},
   "outputs": [],
   "source": []
  }
 ],
 "metadata": {
  "kernelspec": {
   "display_name": "Python 3",
   "language": "python",
   "name": "python3"
  },
  "language_info": {
   "codemirror_mode": {
    "name": "ipython",
    "version": 3
   },
   "file_extension": ".py",
   "mimetype": "text/x-python",
   "name": "python",
   "nbconvert_exporter": "python",
   "pygments_lexer": "ipython3",
   "version": "3.7.3"
  }
 },
 "nbformat": 4,
 "nbformat_minor": 2
}
