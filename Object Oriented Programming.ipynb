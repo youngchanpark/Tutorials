{
 "cells": [
  {
   "cell_type": "markdown",
   "metadata": {},
   "source": [
    "# Object Oriented Programming (OOP)\n",
    "\n",
    "Procedural Programming vs OOP\n",
    "\n",
    "The 4 pillars of OOP\n",
    "\n",
    "1. Encapsulation (캡슐화)\n",
    "2. Abstraction (추상화)\n",
    "3. Inheritance (상속)\n",
    "4. Polymorphism (다형성)"
   ]
  },
  {
   "cell_type": "markdown",
   "metadata": {},
   "source": [
    "## Encapsulation"
   ]
  },
  {
   "cell_type": "markdown",
   "metadata": {},
   "source": [
    "Keeping a distinction between objects and confining the necessary parameters to the object.  \n",
    "This reduces complexity and increases reusability.\n"
   ]
  },
  {
   "cell_type": "code",
   "execution_count": 70,
   "metadata": {},
   "outputs": [],
   "source": [
    "# Procedural way\n",
    "def 이번달_월급_입금(salary, bank, overtime=0):\n",
    "    monthly = salary/12\n",
    "    hourly = monthly/209\n",
    "    payment = round(monthly + (overtime*hourly), 2)\n",
    "    print(f'이번달 입금액: {payment}')\n",
    "    print(f'입금 후 통장 잔액: {bank + payment}')\n",
    "    return bank + payment\n",
    "\n",
    "# OOP way\n",
    "class 임직원:\n",
    "    def __init__(self, 이름, 연봉, 통장):\n",
    "        self.이름 = 이름\n",
    "        self.연봉 = 연봉\n",
    "        self.통장 = 통장\n",
    "    \n",
    "    @property\n",
    "    def 월급(self):\n",
    "        return (self.연봉/12)\n",
    "    \n",
    "    @property    \n",
    "    def 시급(self):\n",
    "        return self.월급/209\n",
    "\n",
    "    def 이번달_월급_입금(self, overtime=0):\n",
    "        입금액 = round(self.월급 + (self.시급*overtime), 2)\n",
    "        self.통장 = self.통장 + 입금액\n",
    "        print(f'이번달 입금액: {입금액}')\n",
    "        print(f'현재 통장 잔액: {self.통장}')"
   ]
  },
  {
   "cell_type": "code",
   "execution_count": 71,
   "metadata": {},
   "outputs": [
    {
     "name": "stdout",
     "output_type": "stream",
     "text": [
      "이번달 입금액: 84.53\n",
      "현재 통장 잔액: 1084.53\n",
      "이번달 입금액: 87.32\n",
      "현재 통장 잔액: 1171.85\n",
      "이번달 입금액: 84.13\n",
      "현재 통장 잔액: 1255.98\n",
      "이번달 입금액: 85.33\n",
      "현재 통장 잔액: 1341.31\n",
      "이번달 입금액: 84.93\n",
      "현재 통장 잔액: 1426.24\n"
     ]
    }
   ],
   "source": [
    "박영찬 = 임직원('박영찬', 1_000, 1_000)\n",
    "박영찬.이번달_월급_입금(3)\n",
    "박영찬.이번달_월급_입금(10)\n",
    "박영찬.이번달_월급_입금(2)\n",
    "박영찬.이번달_월급_입금(5)\n",
    "박영찬.이번달_월급_입금(4)"
   ]
  },
  {
   "cell_type": "code",
   "execution_count": 73,
   "metadata": {},
   "outputs": [
    {
     "name": "stdout",
     "output_type": "stream",
     "text": [
      "이번달 입금액: 84.53\n",
      "입금 후 통장 잔액: 1084.53\n",
      "이번달 입금액: 87.32\n",
      "입금 후 통장 잔액: 1171.85\n",
      "이번달 입금액: 84.13\n",
      "입금 후 통장 잔액: 1255.98\n",
      "이번달 입금액: 85.33\n",
      "입금 후 통장 잔액: 1341.31\n",
      "이번달 입금액: 84.93\n",
      "입금 후 통장 잔액: 1426.24\n"
     ]
    }
   ],
   "source": [
    "연봉 = 1000\n",
    "통장 = 1000\n",
    "야근시간 = 3\n",
    "\n",
    "통장 = 이번달_월급_입금(연봉, 통장, 야근시간)\n",
    "통장 = 이번달_월급_입금(연봉, 통장, 10)\n",
    "통장 = 이번달_월급_입금(연봉, 통장, 2)\n",
    "통장 = 이번달_월급_입금(연봉, 통장, 5)\n",
    "통장 = 이번달_월급_입금(연봉, 통장, 4)"
   ]
  },
  {
   "cell_type": "code",
   "execution_count": 133,
   "metadata": {},
   "outputs": [
    {
     "name": "stdout",
     "output_type": "stream",
     "text": [
      "박영찬\n",
      "이번달 입금액: 84.93\n",
      "입금 후 통장 잔액: 1084.93\n",
      "경성규\n",
      "이번달 입금액: 86.52\n",
      "입금 후 통장 잔액: 2086.52\n",
      "이청\n",
      "이번달 입금액: 169.06\n",
      "입금 후 통장 잔액: 3169.06\n",
      "신승호\n",
      "이번달 입금액: 173.05\n",
      "입금 후 통장 잔액: 4173.05\n",
      "1084.93\n",
      "2086.52\n",
      "3169.06\n",
      "4173.05\n"
     ]
    }
   ],
   "source": [
    "임직원_데이터 = {\n",
    "    '박영찬': {\n",
    "        '이름': '박영찬',\n",
    "        '연봉': 1000,\n",
    "        '통장': 1000,\n",
    "        '월급': round(1000/12, 2),\n",
    "        '시급': round((1000/12)/209, 2),\n",
    "        '야근': 4\n",
    "    },\n",
    "    '경성규': {\n",
    "        '이름': '경성규',\n",
    "        '연봉': 1000,\n",
    "        '통장': 2000,\n",
    "        '월급': round(1000/12, 2),\n",
    "        '시급': round((1000/12)/209, 2),\n",
    "        '야근': 8\n",
    "    },\n",
    "    '이청': {\n",
    "        '이름': '이청',\n",
    "        '연봉': 2000,\n",
    "        '통장': 3000,\n",
    "        '월급': round(2000/12, 2),\n",
    "        '시급': round((2000/12)/209, 2),\n",
    "        '야근': 3\n",
    "    },\n",
    "    '신승호': {\n",
    "        '이름': '신승호',\n",
    "        '연봉': 2000,\n",
    "        '통장': 4000,\n",
    "        '월급': round(2000/12, 2),\n",
    "        '시급': round((2000/12)/209, 2),\n",
    "        '야근': 8\n",
    "    }\n",
    "}\n",
    "\n",
    "for 직원, v in 임직원_데이터.items():\n",
    "    연봉 = v['연봉']\n",
    "    통장 = v['통장']\n",
    "    야근시간 = v['야근']\n",
    "    print(직원)\n",
    "    v['통장'] = 이번달_월급_입금(연봉, 통장, 야근시간)\n",
    "print(임직원_데이터['박영찬']['통장'])\n",
    "print(임직원_데이터['경성규']['통장'])\n",
    "print(임직원_데이터['이청']['통장'])\n",
    "print(임직원_데이터['신승호']['통장'])"
   ]
  },
  {
   "cell_type": "code",
   "execution_count": 135,
   "metadata": {},
   "outputs": [
    {
     "name": "stdout",
     "output_type": "stream",
     "text": [
      "박영찬\n",
      "이번달 입금액: 84.93\n",
      "현재 통장 잔액: 1084.93\n",
      "경성규\n",
      "이번달 입금액: 86.52\n",
      "현재 통장 잔액: 2086.52\n",
      "이청\n",
      "이번달 입금액: 169.06\n",
      "현재 통장 잔액: 3169.06\n",
      "신승호\n",
      "이번달 입금액: 173.05\n",
      "현재 통장 잔액: 4173.05\n",
      "1084.93\n",
      "2086.52\n",
      "3169.06\n",
      "4173.05\n"
     ]
    }
   ],
   "source": [
    "박영찬 = 임직원('박영찬', 1_000, 1_000)\n",
    "경성규 = 임직원('경성규', 1_000, 2_000)\n",
    "이청 = 임직원('이청', 2_000, 3_000)\n",
    "신승호 = 임직원('신승호', 2_000, 4_000)\n",
    "\n",
    "임직원_리스트 = [(박영찬, 4), (경성규, 8), (이청, 3), (신승호, 8)]\n",
    "\n",
    "for i in 임직원_리스트:\n",
    "    직원, 야근시간 = i\n",
    "    print(직원.이름)\n",
    "    직원.이번달_월급_입금(야근시간)\n",
    "\n",
    "print(박영찬.통장)\n",
    "print(경성규.통장)\n",
    "print(이청.통장)\n",
    "print(신승호.통장)"
   ]
  },
  {
   "cell_type": "markdown",
   "metadata": {},
   "source": [
    "연봉 인상을 할 경우엔?  \n",
    "OOP 방식을 사용했다면 연봉 인상 메소드 하나만 추가하면 끝이지만 안 했다면 엄청난 노가다와 불안감을 맛볼 것이다."
   ]
  },
  {
   "cell_type": "markdown",
   "metadata": {},
   "source": [
    ">\"The best functions are those with no parameters\"\n",
    "- Robert C. Martin"
   ]
  },
  {
   "cell_type": "markdown",
   "metadata": {},
   "source": [
    "# Abstraction"
   ]
  },
  {
   "cell_type": "markdown",
   "metadata": {},
   "source": [
    "Hiding of unneccesary interfaces to the user, reducing complexity in the usage of the API.\n",
    "\n",
    "(Isolate impact of changes?)"
   ]
  },
  {
   "cell_type": "markdown",
   "metadata": {},
   "source": [
    "## Private method (Not really)"
   ]
  },
  {
   "cell_type": "code",
   "execution_count": 147,
   "metadata": {},
   "outputs": [
    {
     "name": "stdout",
     "output_type": "stream",
     "text": [
      "updating software\n",
      "driving\n",
      "AttributeError occurred when calling: redcar.__updateSoftware()\n",
      "True\n",
      "updating software\n"
     ]
    }
   ],
   "source": [
    "# https://pythonspot.com/encapsulation/\n",
    "class Car:\n",
    "    def __init__(self):\n",
    "        self.__updateSoftware()\n",
    "\n",
    "    def drive(self):\n",
    "        print('driving')\n",
    "\n",
    "    def __updateSoftware(self):\n",
    "        print('updating software')\n",
    "        \n",
    "redcar = Car()\n",
    "redcar.drive()\n",
    "try:\n",
    "    redcar.__updateSoftware() # AttributeError! \n",
    "except AttributeError:\n",
    "    print('AttributeError occurred when calling: redcar.__updateSoftware()')\n",
    "\n",
    "# The private method (\"__updateSoftware\") is not accessible by the instance \n",
    "# (well, not by a normal name anyways).\n",
    "# Accessible like this    \n",
    "print('_Car__updateSoftware' in dir(redcar))\n",
    "redcar._Car__updateSoftware()"
   ]
  },
  {
   "cell_type": "markdown",
   "metadata": {},
   "source": [
    "## Private variables"
   ]
  },
  {
   "cell_type": "code",
   "execution_count": 129,
   "metadata": {},
   "outputs": [
    {
     "name": "stdout",
     "output_type": "stream",
     "text": [
      "driving. maxspeed 200\n",
      "10\n",
      "driving. maxspeed 200\n",
      "driving. maxspeed 300\n"
     ]
    }
   ],
   "source": [
    "class Car:\n",
    "    __maxspeed = 0\n",
    "    __type = str()\n",
    "    \n",
    "    def __init__(self, maxspeed, car_type):\n",
    "        self.__maxspeed = maxspeed\n",
    "        self.__type = car_type\n",
    "    \n",
    "    def drive(self):\n",
    "        print('driving. maxspeed ' + str(self.__maxspeed))\n",
    "\n",
    "lambo = Car(200, 'Lambo')\n",
    "lambo.drive()\n",
    "lambo.__maxspeed = 10  # will not change variable because its private\n",
    "print(lambo.__maxspeed)\n",
    "lambo.drive()\n",
    "lambo._Car__maxspeed = 300\n",
    "lambo.drive()"
   ]
  },
  {
   "cell_type": "markdown",
   "metadata": {},
   "source": [
    "Private variables are only accessible via the class/instance method.  \n",
    "Even if you define a new attribute with the same name, methods do not utilise the newly set public attribute."
   ]
  },
  {
   "cell_type": "markdown",
   "metadata": {},
   "source": [
    "## Inheritance & Polymorphism"
   ]
  },
  {
   "cell_type": "markdown",
   "metadata": {},
   "source": [
    "Inheritance: Elimination of redundancy between related objects\n",
    "\n",
    "Polymorphism: Usage of the same interfaces (e.g. methods and attributes) on objects of different types \n",
    " - Example: different instance object derived from different classes. These two instances are completely different data type or class instances, but when they share the same interfaces, they are polymorphisms of the same thing?\n",
    "\n",
    "\n",
    "\n",
    ">“When I see a bird that walks like a duck and swims like a duck and quacks like a duck, I call that bird a duck.” - James Whitcomb Riley"
   ]
  },
  {
   "cell_type": "markdown",
   "metadata": {},
   "source": [
    "### Polymorphism example"
   ]
  },
  {
   "cell_type": "code",
   "execution_count": 140,
   "metadata": {},
   "outputs": [
    {
     "name": "stdout",
     "output_type": "stream",
     "text": [
      "The shark is swimming.\n",
      "The clownfish is swimming.\n"
     ]
    }
   ],
   "source": [
    "# https://www.digitalocean.com/community/tutorials/how-to-apply-polymorphism-to-classes-in-python-3\n",
    "class Shark:\n",
    "    def swim(self):\n",
    "        print(\"The shark is swimming.\")\n",
    "\n",
    "    def swim_backwards(self):\n",
    "        print(\"The shark cannot swim backwards, but can sink backwards.\")\n",
    "\n",
    "    def skeleton(self):\n",
    "        print(\"The shark's skeleton is made of cartilage.\")\n",
    "\n",
    "\n",
    "class Clownfish:\n",
    "    def swim(self):\n",
    "        print(\"The clownfish is swimming.\")\n",
    "\n",
    "    def swim_backwards(self):\n",
    "        print(\"The clownfish can swim backwards.\")\n",
    "\n",
    "    def skeleton(self):\n",
    "        print(\"The clownfish's skeleton is made of bone.\")\n",
    "    \n",
    "shark = Shark()\n",
    "nemo = Clownfish()\n",
    "\n",
    "for fish in [shark, nemo]: # Duck typing\n",
    "    fish.swim()"
   ]
  },
  {
   "cell_type": "markdown",
   "metadata": {
    "heading_collapsed": true
   },
   "source": [
    "### Example of inheritances coupled with polymorphism"
   ]
  },
  {
   "cell_type": "code",
   "execution_count": 146,
   "metadata": {
    "hidden": true
   },
   "outputs": [
    {
     "name": "stdout",
     "output_type": "stream",
     "text": [
      "The shark is swimming.\n",
      "The shark can swim backwards.\n",
      "The shark's skeleton is made of cartilage.\n",
      "The clownfish is swimming.\n",
      "The clownfish can swim backwards.\n",
      "The clownfish's skeleton is made of bone.\n"
     ]
    }
   ],
   "source": [
    "class Fish:\n",
    "    _type = ''\n",
    "    _skeleton_type = ''\n",
    "    def swim(self):\n",
    "        print(f\"The {self._type} is swimming.\")\n",
    "        \n",
    "    def swim_backwards(self):\n",
    "        print(f\"The {self._type} can swim backwards.\")\n",
    "\n",
    "    def skeleton(self):\n",
    "        print(f\"The {self._type}'s skeleton is made of {self._skeleton_type}.\")\n",
    "        \n",
    "class Shark(Fish):\n",
    "    def __init__(self, name):\n",
    "        self.name = name\n",
    "        self._type = 'shark'\n",
    "        self._skeleton_type = 'cartilage'\n",
    "\n",
    "class ClownFish(Fish):\n",
    "    def __init__(self, name):\n",
    "        self.name = name\n",
    "        self._type = 'clownfish'\n",
    "        self._skeleton_type = 'bone'\n",
    "        \n",
    "shark = Shark('Shark')\n",
    "nemo = ClownFish('Nemo')\n",
    "\n",
    "for fish in [shark, nemo]:\n",
    "    fish.swim()\n",
    "    fish.swim_backwards()\n",
    "    fish.skeleton()"
   ]
  },
  {
   "cell_type": "markdown",
   "metadata": {},
   "source": [
    "## Basics"
   ]
  },
  {
   "cell_type": "markdown",
   "metadata": {},
   "source": [
    "1. Class object\n",
    "2. Instance object\n",
    "3. Method object\n",
    "\n",
    "Class object supports *attribute references* and *instantiation*\n",
    "\n",
    "Attributes: variables(properties) and methods"
   ]
  },
  {
   "cell_type": "code",
   "execution_count": 22,
   "metadata": {},
   "outputs": [
    {
     "name": "stdout",
     "output_type": "stream",
     "text": [
      "True\n",
      "True\n"
     ]
    }
   ],
   "source": [
    "class MyClass: # Class object\n",
    "    i = 12345 # Class variable \n",
    "    def f(self): # Class method\n",
    "        return 'Hello World!'\n",
    "    \n",
    "print(hasattr(MyClass, 'i'))\n",
    "print(hasattr(MyClass, 'f'))"
   ]
  },
  {
   "cell_type": "code",
   "execution_count": 23,
   "metadata": {},
   "outputs": [
    {
     "data": {
      "text/plain": [
       "'Hello World!'"
      ]
     },
     "execution_count": 23,
     "metadata": {},
     "output_type": "execute_result"
    }
   ],
   "source": [
    "instance = MyClass() # Instantiation\n",
    "\n",
    "instance # Instance object\n",
    "\n",
    "instance.f() # Method object"
   ]
  },
  {
   "cell_type": "markdown",
   "metadata": {
    "heading_collapsed": true
   },
   "source": [
    "### Class and Instance Variables"
   ]
  },
  {
   "cell_type": "code",
   "execution_count": 27,
   "metadata": {
    "hidden": true
   },
   "outputs": [],
   "source": [
    "class MyClass: # Class object\n",
    "    i = 12345 # Class variable\n",
    "    def __init__(self, name): # Instantiation method\n",
    "        self.name = name # Instance variable\n",
    "        \n",
    "instance_one = MyClass('Young-Chan')\n",
    "instance_two = MyClass('MC Mong')"
   ]
  },
  {
   "cell_type": "code",
   "execution_count": 29,
   "metadata": {
    "hidden": true
   },
   "outputs": [
    {
     "name": "stdout",
     "output_type": "stream",
     "text": [
      "12345\n",
      "12345\n",
      "Young-Chan\n",
      "MC Mong\n"
     ]
    }
   ],
   "source": [
    "print(instance_one.i) # Shared class variable\n",
    "print(instance_two.i) # Shared class variable\n",
    "print(instance_one.name) # Unique variable\n",
    "print(instance_two.name) # Unique variable"
   ]
  },
  {
   "cell_type": "markdown",
   "metadata": {},
   "source": [
    "### Self?"
   ]
  },
  {
   "cell_type": "markdown",
   "metadata": {},
   "source": [
    ">self == instance object\n",
    "\n",
    "Methods are different from functions. They have a set of parameter constraints."
   ]
  },
  {
   "cell_type": "code",
   "execution_count": 38,
   "metadata": {},
   "outputs": [],
   "source": [
    "class AnotherClass:\n",
    "    def say_hallo(self):\n",
    "        print('Hallo')\n",
    "instance = AnotherClass()"
   ]
  },
  {
   "cell_type": "code",
   "execution_count": 40,
   "metadata": {},
   "outputs": [
    {
     "name": "stdout",
     "output_type": "stream",
     "text": [
      "Hallo\n",
      "Hallo\n"
     ]
    }
   ],
   "source": [
    "instance.say_hallo() # You run this\n",
    "AnotherClass.say_hallo(instance) # But you are actually running this"
   ]
  },
  {
   "cell_type": "markdown",
   "metadata": {},
   "source": [
    "Think of using the class object's method as a normal function, and that \"self\" is just like an ordinary parameter.  \n",
    "If so..."
   ]
  },
  {
   "cell_type": "code",
   "execution_count": 46,
   "metadata": {},
   "outputs": [
    {
     "name": "stdout",
     "output_type": "stream",
     "text": [
      "1\n",
      "2\n"
     ]
    }
   ],
   "source": [
    "from collections import namedtuple\n",
    "\n",
    "class Hello:\n",
    "    def mymethod(self):\n",
    "        print(self.i)\n",
    "        print(self.j)\n",
    "\n",
    "MyTuple = namedtuple('MyTuple', ['i', 'j'])\n",
    "mytuple = MyTuple(1, 2)\n",
    "\n",
    "Hello.mymethod(mytuple)\n",
    "# Not an instance of Hello, but mytuple also has an i and j attribute\n",
    "# Example of duck typing!"
   ]
  },
  {
   "cell_type": "markdown",
   "metadata": {},
   "source": [
    "### Inheritance"
   ]
  },
  {
   "cell_type": "code",
   "execution_count": null,
   "metadata": {},
   "outputs": [],
   "source": []
  },
  {
   "cell_type": "markdown",
   "metadata": {},
   "source": [
    "## Intermediate"
   ]
  },
  {
   "cell_type": "markdown",
   "metadata": {
    "heading_collapsed": true
   },
   "source": [
    "### Static and Class methods"
   ]
  },
  {
   "cell_type": "code",
   "execution_count": 112,
   "metadata": {
    "hidden": true
   },
   "outputs": [],
   "source": [
    "class MethodDemonstrator:\n",
    "    def normal_method(self):\n",
    "        print('normal_method')\n",
    "    \n",
    "    @staticmethod # This is actually a decorator. More on this later\n",
    "    def static_method():\n",
    "        print('static_method')\n",
    "    \n",
    "    @classmethod\n",
    "    def class_method(cls):\n",
    "        print('class_method')\n",
    "        \n",
    "    @classmethod\n",
    "    def another_class_method(cls):\n",
    "        cls.static_method()\n",
    "    \n",
    "instance = MethodDemonstrator()"
   ]
  },
  {
   "cell_type": "code",
   "execution_count": 115,
   "metadata": {
    "hidden": true
   },
   "outputs": [
    {
     "name": "stdout",
     "output_type": "stream",
     "text": [
      "normal_method\n",
      "static_method\n",
      "class_method\n",
      "Error!\n",
      "static_method\n",
      "class_method\n",
      "static_method\n"
     ]
    }
   ],
   "source": [
    "instance.normal_method()\n",
    "instance.static_method()\n",
    "instance.class_method()\n",
    "\n",
    "try:\n",
    "    MethodDemonstrator.normal_method() # Error!\n",
    "except TypeError:\n",
    "    print('Error!')\n",
    "MethodDemonstrator.static_method()\n",
    "MethodDemonstrator.class_method()\n",
    "\n",
    "MethodDemonstrator.another_class_method()"
   ]
  },
  {
   "cell_type": "markdown",
   "metadata": {
    "heading_collapsed": true
   },
   "source": [
    "### Magic methods"
   ]
  },
  {
   "cell_type": "code",
   "execution_count": 69,
   "metadata": {
    "hidden": true
   },
   "outputs": [],
   "source": [
    "class Person:\n",
    "    def __init__(self, name):\n",
    "        self.name = name\n",
    "    \n",
    "    def __repr__(self): # repr()\n",
    "        return f'MyClass(\"{self.name}\")'\n",
    "    \n",
    "    def __str__(self): # print()\n",
    "        return self.name\n",
    "    \n",
    "    def __eq__(self, other): # ==\n",
    "        return self.name == other\n",
    "p1 = Person('Young-Chan')"
   ]
  },
  {
   "cell_type": "code",
   "execution_count": 70,
   "metadata": {
    "hidden": true
   },
   "outputs": [
    {
     "data": {
      "text/plain": [
       "'MyClass(\"Young-Chan\")'"
      ]
     },
     "execution_count": 70,
     "metadata": {},
     "output_type": "execute_result"
    }
   ],
   "source": [
    "repr(p1)"
   ]
  },
  {
   "cell_type": "code",
   "execution_count": 71,
   "metadata": {
    "hidden": true
   },
   "outputs": [
    {
     "name": "stdout",
     "output_type": "stream",
     "text": [
      "Young-Chan\n"
     ]
    }
   ],
   "source": [
    "print(p1)"
   ]
  },
  {
   "cell_type": "code",
   "execution_count": 72,
   "metadata": {
    "hidden": true
   },
   "outputs": [
    {
     "data": {
      "text/plain": [
       "True"
      ]
     },
     "execution_count": 72,
     "metadata": {},
     "output_type": "execute_result"
    }
   ],
   "source": [
    "p1==\"Young-Chan\""
   ]
  },
  {
   "cell_type": "code",
   "execution_count": 68,
   "metadata": {
    "hidden": true
   },
   "outputs": [
    {
     "name": "stdout",
     "output_type": "stream",
     "text": [
      "3\n",
      "2\n",
      "1\n"
     ]
    }
   ],
   "source": [
    "class MyIterator:\n",
    "    def __init__(self, data):\n",
    "        self.data = data\n",
    "        self._index = len(data)\n",
    "\n",
    "    def __iter__(self): # Makes it iterable \n",
    "        return self\n",
    "    \n",
    "    def __next__(self):\n",
    "        if self._index == 0:\n",
    "            raise StopIteration\n",
    "        self._index-=1\n",
    "        return self.data[self._index]\n",
    "\n",
    "my_iterator = MyIterator([1,2,3])    \n",
    "for i in my_iterator:\n",
    "    print(i)"
   ]
  },
  {
   "cell_type": "code",
   "execution_count": 85,
   "metadata": {
    "hidden": true
   },
   "outputs": [
    {
     "name": "stdout",
     "output_type": "stream",
     "text": [
      "enter method called\n",
      "exit method called\n"
     ]
    }
   ],
   "source": [
    "class MyContextManager:\n",
    "    def __enter__(self): # Make it a context manager\n",
    "        print('enter method called') \n",
    "        return self\n",
    "      \n",
    "    def __exit__(self, exc_type, exc_value, exc_traceback): # Parameter constraints\n",
    "        #print(exc_type)\n",
    "        #print(exc_value)\n",
    "        #print(exc_traceback)\n",
    "        print('exit method called') \n",
    "        \n",
    "mycontextmanager = MyContextManager()\n",
    "with mycontextmanager as mcm:\n",
    "    pass"
   ]
  },
  {
   "cell_type": "code",
   "execution_count": 80,
   "metadata": {
    "hidden": true
   },
   "outputs": [
    {
     "data": {
      "text/plain": [
       "['__class__',\n",
       " '__contains__',\n",
       " '__delattr__',\n",
       " '__delitem__',\n",
       " '__dir__',\n",
       " '__doc__',\n",
       " '__eq__',\n",
       " '__format__',\n",
       " '__ge__',\n",
       " '__getattribute__',\n",
       " '__getitem__',\n",
       " '__gt__',\n",
       " '__hash__',\n",
       " '__init__',\n",
       " '__init_subclass__',\n",
       " '__iter__',\n",
       " '__le__',\n",
       " '__len__',\n",
       " '__lt__',\n",
       " '__ne__',\n",
       " '__new__',\n",
       " '__reduce__',\n",
       " '__reduce_ex__',\n",
       " '__repr__',\n",
       " '__setattr__',\n",
       " '__setitem__',\n",
       " '__sizeof__',\n",
       " '__str__',\n",
       " '__subclasshook__']"
      ]
     },
     "execution_count": 80,
     "metadata": {},
     "output_type": "execute_result"
    }
   ],
   "source": [
    "import re\n",
    "method_list = dir(str)\n",
    "method_list = dir(int)\n",
    "method_list = dir(float)\n",
    "method_list = dir(set)\n",
    "method_list = dir(dict)\n",
    "magic_method_list = [method for method in method_list if bool(re.match(r'^__.*__$', method))]\n",
    "magic_method_list"
   ]
  },
  {
   "cell_type": "code",
   "execution_count": 83,
   "metadata": {
    "hidden": true
   },
   "outputs": [
    {
     "ename": "TypeError",
     "evalue": "__str__ returned non-string (type int)",
     "output_type": "error",
     "traceback": [
      "\u001b[0;31m---------------------------------------------------------------------------\u001b[0m",
      "\u001b[0;31mTypeError\u001b[0m                                 Traceback (most recent call last)",
      "\u001b[0;32m<ipython-input-83-4ea1e801967a>\u001b[0m in \u001b[0;36m<module>\u001b[0;34m()\u001b[0m\n\u001b[1;32m      4\u001b[0m \u001b[0;34m\u001b[0m\u001b[0m\n\u001b[1;32m      5\u001b[0m \u001b[0mfailed\u001b[0m \u001b[0;34m=\u001b[0m \u001b[0mFailedMagic\u001b[0m\u001b[0;34m(\u001b[0m\u001b[0;34m)\u001b[0m\u001b[0;34m\u001b[0m\u001b[0m\n\u001b[0;32m----> 6\u001b[0;31m \u001b[0mprint\u001b[0m\u001b[0;34m(\u001b[0m\u001b[0mfailed\u001b[0m\u001b[0;34m)\u001b[0m \u001b[0;31m# Error!\u001b[0m\u001b[0;34m\u001b[0m\u001b[0m\n\u001b[0m",
      "\u001b[0;31mTypeError\u001b[0m: __str__ returned non-string (type int)"
     ]
    }
   ],
   "source": [
    "class FailedMagic:\n",
    "    def __str__(self):\n",
    "        return 1\n",
    "    \n",
    "failed = FailedMagic()\n",
    "print(failed) # Error!"
   ]
  },
  {
   "cell_type": "markdown",
   "metadata": {
    "heading_collapsed": true
   },
   "source": [
    "### Getters & Setters"
   ]
  },
  {
   "cell_type": "markdown",
   "metadata": {
    "hidden": true
   },
   "source": [
    "Descriptor class\n",
    "\n",
    "Properies are referenced like variables, but they run "
   ]
  },
  {
   "cell_type": "code",
   "execution_count": 117,
   "metadata": {
    "hidden": true
   },
   "outputs": [
    {
     "name": "stdout",
     "output_type": "stream",
     "text": [
      "setter of x called\n",
      "getter of x called\n",
      "deleter of x called\n"
     ]
    }
   ],
   "source": [
    "class C(object):\n",
    "    def __init__(self):\n",
    "        self._x = None\n",
    "\n",
    "    @property\n",
    "    def x(self):\n",
    "        \"\"\"I'm the 'x' property.\"\"\"\n",
    "        print(\"getter of x called\")\n",
    "        return self._x\n",
    "\n",
    "    @x.setter\n",
    "    def x(self, value):\n",
    "        print(\"setter of x called\")\n",
    "        self._x = value\n",
    "\n",
    "    @x.deleter\n",
    "    def x(self):\n",
    "        print(\"deleter of x called\")\n",
    "        del self._x\n",
    "\n",
    "\n",
    "c = C()\n",
    "c.x = 'foo'  # setter called\n",
    "foo = c.x    # getter called\n",
    "del c.x      # deleter called"
   ]
  },
  {
   "cell_type": "code",
   "execution_count": 118,
   "metadata": {
    "hidden": true
   },
   "outputs": [
    {
     "data": {
      "text/plain": [
       "8333333"
      ]
     },
     "execution_count": 118,
     "metadata": {},
     "output_type": "execute_result"
    }
   ],
   "source": [
    "class Employee:\n",
    "    def __init__(self, name, salary):\n",
    "        self.name = name\n",
    "        self.salary = salary\n",
    "    \n",
    "    @property # This is actually a decorator. But more on that later..\n",
    "    def monthly(self):\n",
    "        return round(self.salary/12)\n",
    "    \n",
    "    @property    \n",
    "    def hourly(self):\n",
    "        return round(self.monthly/209)\n",
    "\n",
    "emp1 = Employee('YC', 100_000_000) # 연봉 1억..!\n",
    "emp1.monthly # 월급 833만원..!"
   ]
  },
  {
   "cell_type": "code",
   "execution_count": 119,
   "metadata": {
    "hidden": true
   },
   "outputs": [
    {
     "data": {
      "text/plain": [
       "833333"
      ]
     },
     "execution_count": 119,
     "metadata": {},
     "output_type": "execute_result"
    }
   ],
   "source": [
    "emp1.salary = 10_000_000 # 폭삭 망함... 연봉 1천만원..!\n",
    "emp1.monthly # 월급 83망원..!"
   ]
  },
  {
   "cell_type": "code",
   "execution_count": 123,
   "metadata": {
    "hidden": true
   },
   "outputs": [
    {
     "name": "stdout",
     "output_type": "stream",
     "text": [
      "Salary setter method called!\n"
     ]
    },
    {
     "data": {
      "text/plain": [
       "8333333"
      ]
     },
     "execution_count": 123,
     "metadata": {},
     "output_type": "execute_result"
    }
   ],
   "source": [
    "class Employee:\n",
    "    def __init__(self, name, salary):\n",
    "        self.name = name\n",
    "        self.salary = salary\n",
    "    \n",
    "    @property # This is actually a decorator. But more on that later..\n",
    "    def salary(self):\n",
    "        return self._salary\n",
    "    \n",
    "    @salary.getter\n",
    "    def salary(self):\n",
    "        return self._salary\n",
    "    \n",
    "    @salary.setter\n",
    "    def salary(self, value):\n",
    "        print('Salary setter method called!')\n",
    "        self._salary = value\n",
    "        self.monthly = round(value/12)\n",
    "        self.hourly = round(self.monthly/209)\n",
    "\n",
    "emp1 = Employee('YC', 100_000_000) # 연봉 1억..!\n",
    "emp1.monthly # 월급 833만원..!"
   ]
  },
  {
   "cell_type": "code",
   "execution_count": 124,
   "metadata": {
    "hidden": true
   },
   "outputs": [
    {
     "name": "stdout",
     "output_type": "stream",
     "text": [
      "Salary setter method called!\n"
     ]
    },
    {
     "data": {
      "text/plain": [
       "833333"
      ]
     },
     "execution_count": 124,
     "metadata": {},
     "output_type": "execute_result"
    }
   ],
   "source": [
    "emp1.salary = 10_000_000 # 폭삭 망함... 연봉 1천만원..!\n",
    "emp1.monthly # 월급 83망원..!"
   ]
  },
  {
   "cell_type": "markdown",
   "metadata": {},
   "source": [
    "## Advanced"
   ]
  },
  {
   "cell_type": "markdown",
   "metadata": {},
   "source": [
    "### Meta Classes"
   ]
  },
  {
   "cell_type": "markdown",
   "metadata": {},
   "source": [
    "https://www.youtube.com/watch?v=cKPlPJyQrt4\n",
    "\n",
    "\n",
    "Use case of meta classes is to enforce constraint of the construction of the derived class from the base class "
   ]
  },
  {
   "cell_type": "code",
   "execution_count": 151,
   "metadata": {},
   "outputs": [
    {
     "name": "stdout",
     "output_type": "stream",
     "text": [
      "BaseMeta.__new__ is being called\n",
      "cls: <class '__main__.BaseMeta'>\n",
      "name: Base\n",
      "bases: ()\n",
      "body: {'__module__': '__main__', '__qualname__': 'Base'}\n",
      "====================================================\n",
      "type.__new__(BaseMeta, 'Base', (), {'__module__': '__main__', '__qualname__': 'Base'})\n",
      "====================================================\n",
      "BaseMeta.__new__ is being called\n",
      "cls: <class '__main__.BaseMeta'>\n",
      "name: Derived\n",
      "bases: (<class '__main__.Base'>,)\n",
      "body: {'__module__': '__main__', '__qualname__': 'Derived', '__init__': <function Derived.__init__ at 0x10d093730>, 'myfunc': <function Derived.myfunc at 0x10d093048>}\n"
     ]
    }
   ],
   "source": [
    "class BaseMeta(type): # Meta classes are derived from type\n",
    "    def __new__(cls, name, bases, body): # class constructor magic method\n",
    "        print('BaseMeta.__new__ is being called')\n",
    "        print(f\"cls: {cls}\")\n",
    "        print(f\"name: {name}\")\n",
    "        print(f\"bases: {bases}\")\n",
    "        print(f\"body: {body}\")\n",
    "        \n",
    "        if (name is not 'Base') and ('myfunc' not in body): # Enforcement statement\n",
    "            raise TypeError(\"myfunc method has not been defined!\")\n",
    "        \n",
    "        return super().__new__(cls, name, bases, body)\n",
    "\n",
    "class Base(metaclass=BaseMeta):\n",
    "    pass\n",
    "\n",
    "print('====================================================')\n",
    "print(\"type.__new__(BaseMeta, 'Base', (), {'__module__': '__main__', '__qualname__': 'Base'})\")\n",
    "print('====================================================')\n",
    "\n",
    "class Derived(Base):\n",
    "    def __init__(self, hello):\n",
    "        self.hello = hello\n",
    "    def myfunc(self):\n",
    "        return \"func!\""
   ]
  },
  {
   "cell_type": "code",
   "execution_count": null,
   "metadata": {},
   "outputs": [],
   "source": [
    "# class Base(metaclass=BaseMeta):\n",
    "#     def __init_subclass__(self, *args, **kwargs):\n",
    "#         print('Calling init_subclass', args, kwargs)\n",
    "#         return super().__init_subclass__(*args, **kwargs)"
   ]
  },
  {
   "cell_type": "code",
   "execution_count": 149,
   "metadata": {},
   "outputs": [
    {
     "name": "stdout",
     "output_type": "stream",
     "text": [
      "BaseMeta.__new__ is being called\n",
      "cls: <class '__main__.BaseMeta'>\n",
      "name: AnotherDerived\n",
      "bases: (<class '__main__.Base'>,)\n",
      "body: {'__module__': '__main__', '__qualname__': 'AnotherDerived'}\n"
     ]
    },
    {
     "ename": "TypeError",
     "evalue": "myfunc method has not been defined!",
     "output_type": "error",
     "traceback": [
      "\u001b[0;31m---------------------------------------------------------------------------\u001b[0m",
      "\u001b[0;31mTypeError\u001b[0m                                 Traceback (most recent call last)",
      "\u001b[0;32m<ipython-input-149-aba95c59b10c>\u001b[0m in \u001b[0;36m<module>\u001b[0;34m()\u001b[0m\n\u001b[0;32m----> 1\u001b[0;31m \u001b[0;32mclass\u001b[0m \u001b[0mAnotherDerived\u001b[0m\u001b[0;34m(\u001b[0m\u001b[0mBase\u001b[0m\u001b[0;34m)\u001b[0m\u001b[0;34m:\u001b[0m\u001b[0;34m\u001b[0m\u001b[0m\n\u001b[0m\u001b[1;32m      2\u001b[0m     \u001b[0;32mpass\u001b[0m \u001b[0;31m# Error!\u001b[0m\u001b[0;34m\u001b[0m\u001b[0m\n",
      "\u001b[0;32m<ipython-input-148-a83b88ce6615>\u001b[0m in \u001b[0;36m__new__\u001b[0;34m(cls, name, bases, body)\u001b[0m\n\u001b[1;32m      8\u001b[0m \u001b[0;34m\u001b[0m\u001b[0m\n\u001b[1;32m      9\u001b[0m         \u001b[0;32mif\u001b[0m \u001b[0;34m(\u001b[0m\u001b[0mname\u001b[0m \u001b[0;32mis\u001b[0m \u001b[0;32mnot\u001b[0m \u001b[0;34m'Base'\u001b[0m\u001b[0;34m)\u001b[0m \u001b[0;32mand\u001b[0m \u001b[0;34m(\u001b[0m\u001b[0;34m'myfunc'\u001b[0m \u001b[0;32mnot\u001b[0m \u001b[0;32min\u001b[0m \u001b[0mbody\u001b[0m\u001b[0;34m)\u001b[0m\u001b[0;34m:\u001b[0m \u001b[0;31m# Enforcement statement\u001b[0m\u001b[0;34m\u001b[0m\u001b[0m\n\u001b[0;32m---> 10\u001b[0;31m             \u001b[0;32mraise\u001b[0m \u001b[0mTypeError\u001b[0m\u001b[0;34m(\u001b[0m\u001b[0;34m\"myfunc method has not been defined!\"\u001b[0m\u001b[0;34m)\u001b[0m\u001b[0;34m\u001b[0m\u001b[0m\n\u001b[0m\u001b[1;32m     11\u001b[0m \u001b[0;34m\u001b[0m\u001b[0m\n\u001b[1;32m     12\u001b[0m         \u001b[0;32mreturn\u001b[0m \u001b[0msuper\u001b[0m\u001b[0;34m(\u001b[0m\u001b[0;34m)\u001b[0m\u001b[0;34m.\u001b[0m\u001b[0m__new__\u001b[0m\u001b[0;34m(\u001b[0m\u001b[0mcls\u001b[0m\u001b[0;34m,\u001b[0m \u001b[0mname\u001b[0m\u001b[0;34m,\u001b[0m \u001b[0mbases\u001b[0m\u001b[0;34m,\u001b[0m \u001b[0mbody\u001b[0m\u001b[0;34m)\u001b[0m\u001b[0;34m\u001b[0m\u001b[0m\n",
      "\u001b[0;31mTypeError\u001b[0m: myfunc method has not been defined!"
     ]
    }
   ],
   "source": [
    "class AnotherDerived(Base):\n",
    "    pass # Error!"
   ]
  },
  {
   "cell_type": "code",
   "execution_count": null,
   "metadata": {},
   "outputs": [],
   "source": [
    "class Base(metaclass=BaseMeta):\n",
    "    def __init_subclass__(self, *args, **kwargs):\n",
    "        print('Calling init_subclass', args, kwargs)\n",
    "        return super().__init_subclass__(*args, **kwargs)\n",
    "\n",
    "print('====================================================')\n",
    "\n",
    "class Derived(Base):\n",
    "    def __init__(self, hello):\n",
    "        self.hello = hello\n",
    "    def myfunc(self):\n",
    "        return \"func!\""
   ]
  },
  {
   "cell_type": "code",
   "execution_count": 136,
   "metadata": {},
   "outputs": [
    {
     "data": {
      "text/plain": [
       "__main__.Base"
      ]
     },
     "execution_count": 136,
     "metadata": {},
     "output_type": "execute_result"
    }
   ],
   "source": []
  },
  {
   "cell_type": "code",
   "execution_count": null,
   "metadata": {},
   "outputs": [],
   "source": [
    "BaseMeta.__new__"
   ]
  }
 ],
 "metadata": {
  "kernelspec": {
   "display_name": "Python 3",
   "language": "python",
   "name": "python3"
  },
  "language_info": {
   "codemirror_mode": {
    "name": "ipython",
    "version": 3
   },
   "file_extension": ".py",
   "mimetype": "text/x-python",
   "name": "python",
   "nbconvert_exporter": "python",
   "pygments_lexer": "ipython3",
   "version": "3.6.4"
  },
  "toc": {
   "base_numbering": 1,
   "nav_menu": {},
   "number_sections": true,
   "sideBar": true,
   "skip_h1_title": false,
   "title_cell": "Table of Contents",
   "title_sidebar": "Contents",
   "toc_cell": false,
   "toc_position": {},
   "toc_section_display": true,
   "toc_window_display": false
  },
  "varInspector": {
   "cols": {
    "lenName": 16,
    "lenType": 16,
    "lenVar": 40
   },
   "kernels_config": {
    "python": {
     "delete_cmd_postfix": "",
     "delete_cmd_prefix": "del ",
     "library": "var_list.py",
     "varRefreshCmd": "print(var_dic_list())"
    },
    "r": {
     "delete_cmd_postfix": ") ",
     "delete_cmd_prefix": "rm(",
     "library": "var_list.r",
     "varRefreshCmd": "cat(var_dic_list()) "
    }
   },
   "types_to_exclude": [
    "module",
    "function",
    "builtin_function_or_method",
    "instance",
    "_Feature"
   ],
   "window_display": false
  }
 },
 "nbformat": 4,
 "nbformat_minor": 2
}
