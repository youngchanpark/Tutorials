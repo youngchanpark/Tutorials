{
 "cells": [
  {
   "cell_type": "markdown",
   "metadata": {},
   "source": [
    "# Object Oriented Programming (OOP)\n",
    "\n",
    "Procedural Programming vs OOP\n",
    "\n",
    "The 4 pillars of OOP\n",
    "\n",
    "1. Encapsulation (캡슐화)\n",
    "2. Abstraction (추상화)\n",
    "3. Inheritance (상속)\n",
    "4. Polymorphism (다형성)"
   ]
  },
  {
   "cell_type": "markdown",
   "metadata": {},
   "source": [
    "## Encapsulation"
   ]
  },
  {
   "cell_type": "markdown",
   "metadata": {},
   "source": [
    "Keeping a distinction between objects and confining the necessary parameters to the object.  \n",
    "This reduces complexity and increases reusability.\n"
   ]
  },
  {
   "cell_type": "code",
   "execution_count": 4,
   "metadata": {},
   "outputs": [],
   "source": [
    "# Procedural way\n",
    "def monthly_payment(salary, bank, overtime=0):\n",
    "    monthly = salary/12\n",
    "    hourly = monthly/209\n",
    "    payment = round(monthly + (overtime*hourly), 2)\n",
    "    print(f\"This month's payment: {payment}\")\n",
    "    print(f'Current balance: {bank + payment}')\n",
    "    return bank + payment\n",
    "\n",
    "# OOP way\n",
    "class Employee:\n",
    "    def __init__(self, name, salary, bank):\n",
    "        self.name = name\n",
    "        self.salary = salary\n",
    "        self.bank = bank\n",
    "    \n",
    "    @property\n",
    "    def monthly(self):\n",
    "        return self.salary/12\n",
    "    \n",
    "    @property    \n",
    "    def hourly(self):\n",
    "        return self.monthly/209\n",
    "\n",
    "    def monthly_payment(self, overtime=0):\n",
    "        payment = round(self.monthly + (self.hourly*overtime), 2)\n",
    "        self.bank += payment\n",
    "        print(f\"This month's payment: {payment}\")\n",
    "        print(f'Current balance: {self.bank}')"
   ]
  },
  {
   "cell_type": "code",
   "execution_count": 5,
   "metadata": {},
   "outputs": [
    {
     "name": "stdout",
     "output_type": "stream",
     "text": [
      "This month's payment: 84.53\n",
      "Current balance: 1084.53\n",
      "This month's payment: 87.32\n",
      "Current balance: 1171.85\n",
      "This month's payment: 84.13\n",
      "Current balance: 1255.98\n",
      "This month's payment: 85.33\n",
      "Current balance: 1341.31\n",
      "This month's payment: 84.93\n",
      "Current balance: 1426.24\n"
     ]
    }
   ],
   "source": [
    "James = Employee('James', 1_000, 1_000)\n",
    "James.monthly_payment(3)\n",
    "James.monthly_payment(10)\n",
    "James.monthly_payment(2)\n",
    "James.monthly_payment(5)\n",
    "James.monthly_payment(4)"
   ]
  },
  {
   "cell_type": "code",
   "execution_count": 6,
   "metadata": {},
   "outputs": [
    {
     "name": "stdout",
     "output_type": "stream",
     "text": [
      "This month's payment: 84.53\n",
      "Current balance: 1084.53\n",
      "This month's payment: 87.32\n",
      "Current balance: 1171.85\n",
      "This month's payment: 84.13\n",
      "Current balance: 1255.98\n",
      "This month's payment: 85.33\n",
      "Current balance: 1341.31\n",
      "This month's payment: 84.93\n",
      "Current balance: 1426.24\n"
     ]
    }
   ],
   "source": [
    "salary = 1000\n",
    "bank = 1000\n",
    "\n",
    "bank = monthly_payment(salary, bank, 3)\n",
    "bank = monthly_payment(salary, bank, 10)\n",
    "bank = monthly_payment(salary, bank, 2)\n",
    "bank = monthly_payment(salary, bank, 5)\n",
    "bank = monthly_payment(salary, bank, 4)"
   ]
  },
  {
   "cell_type": "code",
   "execution_count": 7,
   "metadata": {},
   "outputs": [
    {
     "name": "stdout",
     "output_type": "stream",
     "text": [
      "James\n",
      "This month's payment: 84.93\n",
      "Current balance: 1084.93\n",
      "Rose\n",
      "This month's payment: 86.52\n",
      "Current balance: 2086.52\n",
      "Terry\n",
      "This month's payment: 169.06\n",
      "Current balance: 3169.06\n",
      "Arthur\n",
      "This month's payment: 173.05\n",
      "Current balance: 4173.05\n",
      "1084.93\n",
      "2086.52\n",
      "3169.06\n",
      "4173.05\n"
     ]
    }
   ],
   "source": [
    "employee_database = {\n",
    "    'James': {\n",
    "        'name': 'James',\n",
    "        'salary': 1000,\n",
    "        'bank': 1000,\n",
    "        'monthly': round(1000/12, 2),\n",
    "        'hourly': round((1000/12)/209, 2),\n",
    "        'overtime': 4\n",
    "    },\n",
    "    'Rose': {\n",
    "        'name': 'Rose',\n",
    "        'salary': 1000,\n",
    "        'bank': 2000,\n",
    "        'monthly': round(1000/12, 2),\n",
    "        'hourly': round((1000/12)/209, 2),\n",
    "        'overtime': 8\n",
    "    },\n",
    "    'Terry': {\n",
    "        'name': 'Terry',\n",
    "        'salary': 2000,\n",
    "        'bank': 3000,\n",
    "        'monthly': round(2000/12, 2),\n",
    "        'hourly': round((2000/12)/209, 2),\n",
    "        'overtime': 3\n",
    "    },\n",
    "    'Arthur': {\n",
    "        'name': 'Arthur',\n",
    "        'salary': 2000,\n",
    "        'bank': 4000,\n",
    "        'monthly': round(2000/12, 2),\n",
    "        'hourly': round((2000/12)/209, 2),\n",
    "        'overtime': 8\n",
    "    }\n",
    "}\n",
    "\n",
    "for employee, v in employee_database.items():\n",
    "    salary = v['salary']\n",
    "    bank = v['bank']\n",
    "    overtime = v['overtime']\n",
    "    print(employee)\n",
    "    v['bank'] = monthly_payment(salary, bank, overtime)\n",
    "print(employee_database['James']['bank'])\n",
    "print(employee_database['Rose']['bank'])\n",
    "print(employee_database['Terry']['bank'])\n",
    "print(employee_database['Arthur']['bank'])"
   ]
  },
  {
   "cell_type": "code",
   "execution_count": 8,
   "metadata": {},
   "outputs": [
    {
     "name": "stdout",
     "output_type": "stream",
     "text": [
      "James\n",
      "This month's payment: 84.93\n",
      "Current balance: 1084.93\n",
      "Rose\n",
      "This month's payment: 86.52\n",
      "Current balance: 2086.52\n",
      "Terry\n",
      "This month's payment: 169.06\n",
      "Current balance: 3169.06\n",
      "Arthur\n",
      "This month's payment: 173.05\n",
      "Current balance: 4173.05\n",
      "1084.93\n",
      "2086.52\n",
      "3169.06\n",
      "4173.05\n"
     ]
    }
   ],
   "source": [
    "James = Employee('James', 1_000, 1_000)\n",
    "Rose = Employee('Rose', 1_000, 2_000)\n",
    "Terry = Employee('Terry', 2_000, 3_000)\n",
    "Arthur = Employee('Arthur', 2_000, 4_000)\n",
    "\n",
    "employee_list = [(James, 4), (Rose, 8), (Terry, 3), (Arthur, 8)]\n",
    "\n",
    "for i in employee_list:\n",
    "    employee, overtime = i\n",
    "    print(employee.name)\n",
    "    employee.monthly_payment(overtime)\n",
    "\n",
    "print(James.bank)\n",
    "print(Rose.bank)\n",
    "print(Terry.bank)\n",
    "print(Arthur.bank)"
   ]
  },
  {
   "cell_type": "markdown",
   "metadata": {},
   "source": [
    "What about a raise?\n",
    "\n",
    "If you used the OOP paradigm, you'd only need to add a `raise` method. "
   ]
  },
  {
   "cell_type": "markdown",
   "metadata": {},
   "source": [
    ">\"The best functions are those with no parameters\"\n",
    "- Robert C. Martin"
   ]
  },
  {
   "cell_type": "markdown",
   "metadata": {},
   "source": [
    "# Abstraction"
   ]
  },
  {
   "cell_type": "markdown",
   "metadata": {},
   "source": [
    "Hiding of unneccesary interfaces to the user, reducing complexity in the usage of the API.\n",
    "\n",
    "(Isolate impact of changes?)"
   ]
  },
  {
   "cell_type": "markdown",
   "metadata": {},
   "source": [
    "## Private method (Not really)"
   ]
  },
  {
   "cell_type": "code",
   "execution_count": 9,
   "metadata": {},
   "outputs": [
    {
     "name": "stdout",
     "output_type": "stream",
     "text": [
      "updating software\n",
      "driving\n",
      "AttributeError occurred when calling: redcar.__updateSoftware()\n",
      "True\n",
      "updating software\n"
     ]
    }
   ],
   "source": [
    "# https://pythonspot.com/encapsulation/\n",
    "class Car:\n",
    "    def __init__(self):\n",
    "        self.__updateSoftware()\n",
    "\n",
    "    def drive(self):\n",
    "        print('driving')\n",
    "\n",
    "    def __updateSoftware(self):\n",
    "        print('updating software')\n",
    "        \n",
    "redcar = Car()\n",
    "redcar.drive()\n",
    "try:\n",
    "    redcar.__updateSoftware() # AttributeError! \n",
    "except AttributeError:\n",
    "    print('AttributeError occurred when calling: redcar.__updateSoftware()')\n",
    "\n",
    "# The private method (\"__updateSoftware\") is not accessible by the instance \n",
    "# (well, not by a normal name anyways).\n",
    "# Accessible like this    \n",
    "print('_Car__updateSoftware' in dir(redcar))\n",
    "redcar._Car__updateSoftware()"
   ]
  },
  {
   "cell_type": "markdown",
   "metadata": {},
   "source": [
    "## Private variables"
   ]
  },
  {
   "cell_type": "code",
   "execution_count": 10,
   "metadata": {},
   "outputs": [
    {
     "name": "stdout",
     "output_type": "stream",
     "text": [
      "driving. maxspeed 200\n",
      "10\n",
      "driving. maxspeed 200\n",
      "driving. maxspeed 300\n"
     ]
    }
   ],
   "source": [
    "class Car:\n",
    "    __maxspeed = 0\n",
    "    __type = str()\n",
    "    \n",
    "    def __init__(self, maxspeed, car_type):\n",
    "        self.__maxspeed = maxspeed\n",
    "        self.__type = car_type\n",
    "    \n",
    "    def drive(self):\n",
    "        print('driving. maxspeed ' + str(self.__maxspeed))\n",
    "\n",
    "lambo = Car(200, 'Lambo')\n",
    "lambo.drive()\n",
    "lambo.__maxspeed = 10  # will not change variable because its private\n",
    "print(lambo.__maxspeed)\n",
    "lambo.drive()\n",
    "lambo._Car__maxspeed = 300\n",
    "lambo.drive()"
   ]
  },
  {
   "cell_type": "markdown",
   "metadata": {},
   "source": [
    "Private variables are only accessible via the class/instance method.  \n",
    "Even if you define a new attribute with the same name, methods do not utilise the newly set public attribute."
   ]
  },
  {
   "cell_type": "markdown",
   "metadata": {},
   "source": [
    "## Inheritance & Polymorphism"
   ]
  },
  {
   "cell_type": "markdown",
   "metadata": {},
   "source": [
    "Inheritance: Elimination of redundancy between related objects\n",
    "\n",
    "Polymorphism: Usage of the same interfaces (e.g. methods and attributes) on objects of different types \n",
    " - Example: different instance object derived from different classes. These two instances are completely different data type or class instances, but when they share the same interfaces, they are polymorphisms of the same thing?\n",
    "\n",
    "\n",
    "\n",
    ">“When I see a bird that walks like a duck and swims like a duck and quacks like a duck, I call that bird a duck.” - James Whitcomb Riley"
   ]
  },
  {
   "cell_type": "markdown",
   "metadata": {},
   "source": [
    "### Polymorphism example"
   ]
  },
  {
   "cell_type": "code",
   "execution_count": 11,
   "metadata": {},
   "outputs": [
    {
     "name": "stdout",
     "output_type": "stream",
     "text": [
      "The shark is swimming.\n",
      "The clownfish is swimming.\n"
     ]
    }
   ],
   "source": [
    "# https://www.digitalocean.com/community/tutorials/how-to-apply-polymorphism-to-classes-in-python-3\n",
    "class Shark:\n",
    "    def swim(self):\n",
    "        print(\"The shark is swimming.\")\n",
    "\n",
    "    def swim_backwards(self):\n",
    "        print(\"The shark cannot swim backwards, but can sink backwards.\")\n",
    "\n",
    "    def skeleton(self):\n",
    "        print(\"The shark's skeleton is made of cartilage.\")\n",
    "\n",
    "\n",
    "class Clownfish:\n",
    "    def swim(self):\n",
    "        print(\"The clownfish is swimming.\")\n",
    "\n",
    "    def swim_backwards(self):\n",
    "        print(\"The clownfish can swim backwards.\")\n",
    "\n",
    "    def skeleton(self):\n",
    "        print(\"The clownfish's skeleton is made of bone.\")\n",
    "    \n",
    "shark = Shark()\n",
    "nemo = Clownfish()\n",
    "\n",
    "for fish in [shark, nemo]: # Duck typing\n",
    "    fish.swim()"
   ]
  },
  {
   "cell_type": "markdown",
   "metadata": {},
   "source": [
    "### Example of inheritances coupled with polymorphism"
   ]
  },
  {
   "cell_type": "code",
   "execution_count": 12,
   "metadata": {},
   "outputs": [
    {
     "name": "stdout",
     "output_type": "stream",
     "text": [
      "The shark is swimming.\n",
      "The shark can swim backwards.\n",
      "The shark's skeleton is made of cartilage.\n",
      "The clownfish is swimming.\n",
      "The clownfish can swim backwards.\n",
      "The clownfish's skeleton is made of bone.\n"
     ]
    }
   ],
   "source": [
    "class Fish:\n",
    "    _type = ''\n",
    "    _skeleton_type = ''\n",
    "    def swim(self):\n",
    "        print(f\"The {self._type} is swimming.\")\n",
    "        \n",
    "    def swim_backwards(self):\n",
    "        print(f\"The {self._type} can swim backwards.\")\n",
    "\n",
    "    def skeleton(self):\n",
    "        print(f\"The {self._type}'s skeleton is made of {self._skeleton_type}.\")\n",
    "        \n",
    "class Shark(Fish):\n",
    "    def __init__(self, name):\n",
    "        self.name = name\n",
    "        self._type = 'shark'\n",
    "        self._skeleton_type = 'cartilage'\n",
    "\n",
    "class ClownFish(Fish):\n",
    "    def __init__(self, name):\n",
    "        self.name = name\n",
    "        self._type = 'clownfish'\n",
    "        self._skeleton_type = 'bone'\n",
    "        \n",
    "shark = Shark('Shark')\n",
    "nemo = ClownFish('Nemo')\n",
    "\n",
    "for fish in [shark, nemo]:\n",
    "    fish.swim()\n",
    "    fish.swim_backwards()\n",
    "    fish.skeleton()"
   ]
  },
  {
   "cell_type": "markdown",
   "metadata": {},
   "source": [
    "## Basics"
   ]
  },
  {
   "cell_type": "markdown",
   "metadata": {},
   "source": [
    "1. Class object\n",
    "2. Instance object\n",
    "3. Method object\n",
    "\n",
    "Class object supports *attribute references* and *instantiation*\n",
    "\n",
    "Attributes: variables(properties) and methods"
   ]
  },
  {
   "cell_type": "code",
   "execution_count": 13,
   "metadata": {},
   "outputs": [
    {
     "name": "stdout",
     "output_type": "stream",
     "text": [
      "True\n",
      "True\n"
     ]
    }
   ],
   "source": [
    "class MyClass: # Class object\n",
    "    i = 12345 # Class variable \n",
    "    def f(self): # Class method\n",
    "        return 'Hello World!'\n",
    "    \n",
    "print(hasattr(MyClass, 'i'))\n",
    "print(hasattr(MyClass, 'f'))"
   ]
  },
  {
   "cell_type": "code",
   "execution_count": 14,
   "metadata": {},
   "outputs": [
    {
     "data": {
      "text/plain": [
       "'Hello World!'"
      ]
     },
     "execution_count": 14,
     "metadata": {},
     "output_type": "execute_result"
    }
   ],
   "source": [
    "instance = MyClass() # Instantiation\n",
    "\n",
    "instance # Instance object\n",
    "\n",
    "instance.f() # Method object"
   ]
  },
  {
   "cell_type": "markdown",
   "metadata": {
    "heading_collapsed": true
   },
   "source": [
    "### Class and Instance Variables"
   ]
  },
  {
   "cell_type": "code",
   "execution_count": 27,
   "metadata": {
    "hidden": true
   },
   "outputs": [],
   "source": [
    "class MyClass: # Class object\n",
    "    i = 12345 # Class variable\n",
    "    def __init__(self, name): # Instantiation method\n",
    "        self.name = name # Instance variable\n",
    "        \n",
    "instance_one = MyClass('Young-Chan')\n",
    "instance_two = MyClass('MC Mong')"
   ]
  },
  {
   "cell_type": "code",
   "execution_count": 29,
   "metadata": {
    "hidden": true
   },
   "outputs": [
    {
     "name": "stdout",
     "output_type": "stream",
     "text": [
      "12345\n",
      "12345\n",
      "Young-Chan\n",
      "MC Mong\n"
     ]
    }
   ],
   "source": [
    "print(instance_one.i) # Shared class variable\n",
    "print(instance_two.i) # Shared class variable\n",
    "print(instance_one.name) # Unique variable\n",
    "print(instance_two.name) # Unique variable"
   ]
  },
  {
   "cell_type": "markdown",
   "metadata": {},
   "source": [
    "### Self?"
   ]
  },
  {
   "cell_type": "markdown",
   "metadata": {},
   "source": [
    ">self == instance object\n",
    "\n",
    "Methods are different from functions. They have a set of parameter constraints."
   ]
  },
  {
   "cell_type": "code",
   "execution_count": 15,
   "metadata": {},
   "outputs": [],
   "source": [
    "class AnotherClass:\n",
    "    def say_hallo(self):\n",
    "        print('Hallo')\n",
    "instance = AnotherClass()"
   ]
  },
  {
   "cell_type": "code",
   "execution_count": 16,
   "metadata": {},
   "outputs": [
    {
     "name": "stdout",
     "output_type": "stream",
     "text": [
      "Hallo\n",
      "Hallo\n"
     ]
    }
   ],
   "source": [
    "instance.say_hallo() # You run this\n",
    "AnotherClass.say_hallo(instance) # But under the hood, it's actually this "
   ]
  },
  {
   "cell_type": "markdown",
   "metadata": {},
   "source": [
    "Think of using the class object's method as a normal function, and that \"self\" is just like an ordinary parameter.  \n",
    "If so..."
   ]
  },
  {
   "cell_type": "code",
   "execution_count": 18,
   "metadata": {},
   "outputs": [
    {
     "name": "stdout",
     "output_type": "stream",
     "text": [
      "1\n",
      "2\n"
     ]
    }
   ],
   "source": [
    "from collections import namedtuple\n",
    "\n",
    "class Hello:\n",
    "    def mymethod(self):\n",
    "        print(self.i)\n",
    "        print(self.j)\n",
    "\n",
    "MyTuple = namedtuple('MyTuple', ['i', 'j'])\n",
    "mytuple = MyTuple(1, 2)\n",
    "\n",
    "Hello.mymethod(mytuple)\n",
    "# Not an instance of Hello, but mytuple also has an i and j attribute\n",
    "# Example of duck typing!"
   ]
  },
  {
   "cell_type": "markdown",
   "metadata": {},
   "source": [
    "### Inheritance"
   ]
  },
  {
   "cell_type": "code",
   "execution_count": null,
   "metadata": {},
   "outputs": [],
   "source": []
  },
  {
   "cell_type": "markdown",
   "metadata": {},
   "source": [
    "## Intermediate"
   ]
  },
  {
   "cell_type": "markdown",
   "metadata": {},
   "source": [
    "### Static and Class methods"
   ]
  },
  {
   "cell_type": "code",
   "execution_count": 19,
   "metadata": {},
   "outputs": [],
   "source": [
    "class MethodDemonstrator:\n",
    "    def normal_method(self):\n",
    "        print('normal_method')\n",
    "    \n",
    "    @staticmethod # This is actually a decorator. More on this later\n",
    "    def static_method():\n",
    "        print('static_method')\n",
    "    \n",
    "    @classmethod\n",
    "    def class_method(cls):\n",
    "        print('class_method')\n",
    "        \n",
    "    @classmethod\n",
    "    def another_class_method(cls):\n",
    "        cls.static_method()\n",
    "    \n",
    "instance = MethodDemonstrator()"
   ]
  },
  {
   "cell_type": "code",
   "execution_count": 20,
   "metadata": {},
   "outputs": [
    {
     "name": "stdout",
     "output_type": "stream",
     "text": [
      "normal_method\n",
      "static_method\n",
      "class_method\n",
      "Error!\n",
      "static_method\n",
      "class_method\n",
      "static_method\n"
     ]
    }
   ],
   "source": [
    "instance.normal_method()\n",
    "instance.static_method()\n",
    "instance.class_method()\n",
    "\n",
    "try:\n",
    "    MethodDemonstrator.normal_method() # Error!\n",
    "except TypeError:\n",
    "    print('Error!')\n",
    "MethodDemonstrator.static_method()\n",
    "MethodDemonstrator.class_method()\n",
    "\n",
    "MethodDemonstrator.another_class_method()"
   ]
  },
  {
   "cell_type": "markdown",
   "metadata": {},
   "source": [
    "### Magic methods"
   ]
  },
  {
   "cell_type": "code",
   "execution_count": 21,
   "metadata": {},
   "outputs": [],
   "source": [
    "class Person:\n",
    "    def __init__(self, name):\n",
    "        self.name = name\n",
    "    \n",
    "    def __repr__(self): # repr()\n",
    "        return f'MyClass(\"{self.name}\")'\n",
    "    \n",
    "    def __str__(self): # print()\n",
    "        return self.name\n",
    "    \n",
    "    def __eq__(self, other): # ==\n",
    "        return self.name == other\n",
    "p1 = Person('Young-Chan')"
   ]
  },
  {
   "cell_type": "code",
   "execution_count": 22,
   "metadata": {},
   "outputs": [
    {
     "data": {
      "text/plain": [
       "'MyClass(\"Young-Chan\")'"
      ]
     },
     "execution_count": 22,
     "metadata": {},
     "output_type": "execute_result"
    }
   ],
   "source": [
    "repr(p1)"
   ]
  },
  {
   "cell_type": "code",
   "execution_count": 23,
   "metadata": {},
   "outputs": [
    {
     "name": "stdout",
     "output_type": "stream",
     "text": [
      "Young-Chan\n"
     ]
    }
   ],
   "source": [
    "print(p1)"
   ]
  },
  {
   "cell_type": "code",
   "execution_count": 24,
   "metadata": {},
   "outputs": [
    {
     "data": {
      "text/plain": [
       "True"
      ]
     },
     "execution_count": 24,
     "metadata": {},
     "output_type": "execute_result"
    }
   ],
   "source": [
    "p1==\"Young-Chan\""
   ]
  },
  {
   "cell_type": "code",
   "execution_count": 25,
   "metadata": {},
   "outputs": [
    {
     "name": "stdout",
     "output_type": "stream",
     "text": [
      "3\n",
      "2\n",
      "1\n"
     ]
    }
   ],
   "source": [
    "class MyIterator:\n",
    "    def __init__(self, data):\n",
    "        self.data = data\n",
    "        self._index = len(data)\n",
    "\n",
    "    def __iter__(self): # Makes it iterable \n",
    "        return self\n",
    "    \n",
    "    def __next__(self):\n",
    "        if self._index == 0:\n",
    "            raise StopIteration\n",
    "        self._index-=1\n",
    "        return self.data[self._index]\n",
    "\n",
    "my_iterator = MyIterator([1,2,3])    \n",
    "for i in my_iterator:\n",
    "    print(i)"
   ]
  },
  {
   "cell_type": "code",
   "execution_count": 26,
   "metadata": {},
   "outputs": [
    {
     "name": "stdout",
     "output_type": "stream",
     "text": [
      "enter method called\n",
      "exit method called\n"
     ]
    }
   ],
   "source": [
    "class MyContextManager:\n",
    "    def __enter__(self): # Make it a context manager\n",
    "        print('enter method called') \n",
    "        return self\n",
    "      \n",
    "    def __exit__(self, exc_type, exc_value, exc_traceback): # Parameter constraints\n",
    "        #print(exc_type)\n",
    "        #print(exc_value)\n",
    "        #print(exc_traceback)\n",
    "        print('exit method called') \n",
    "        \n",
    "mycontextmanager = MyContextManager()\n",
    "with mycontextmanager as mcm:\n",
    "    pass"
   ]
  },
  {
   "cell_type": "code",
   "execution_count": 27,
   "metadata": {},
   "outputs": [
    {
     "data": {
      "text/plain": [
       "['__class__',\n",
       " '__contains__',\n",
       " '__delattr__',\n",
       " '__delitem__',\n",
       " '__dir__',\n",
       " '__doc__',\n",
       " '__eq__',\n",
       " '__format__',\n",
       " '__ge__',\n",
       " '__getattribute__',\n",
       " '__getitem__',\n",
       " '__gt__',\n",
       " '__hash__',\n",
       " '__init__',\n",
       " '__init_subclass__',\n",
       " '__iter__',\n",
       " '__le__',\n",
       " '__len__',\n",
       " '__lt__',\n",
       " '__ne__',\n",
       " '__new__',\n",
       " '__reduce__',\n",
       " '__reduce_ex__',\n",
       " '__repr__',\n",
       " '__setattr__',\n",
       " '__setitem__',\n",
       " '__sizeof__',\n",
       " '__str__',\n",
       " '__subclasshook__']"
      ]
     },
     "execution_count": 27,
     "metadata": {},
     "output_type": "execute_result"
    }
   ],
   "source": [
    "import re\n",
    "method_list = dir(str)\n",
    "method_list = dir(int)\n",
    "method_list = dir(float)\n",
    "method_list = dir(set)\n",
    "method_list = dir(dict)\n",
    "magic_method_list = [method for method in method_list if bool(re.match(r'^__.*__$', method))]\n",
    "magic_method_list"
   ]
  },
  {
   "cell_type": "code",
   "execution_count": 28,
   "metadata": {},
   "outputs": [
    {
     "ename": "TypeError",
     "evalue": "__str__ returned non-string (type int)",
     "output_type": "error",
     "traceback": [
      "\u001b[0;31m---------------------------------------------------------------------------\u001b[0m",
      "\u001b[0;31mTypeError\u001b[0m                                 Traceback (most recent call last)",
      "\u001b[0;32m<ipython-input-28-4ea1e801967a>\u001b[0m in \u001b[0;36m<module>\u001b[0;34m()\u001b[0m\n\u001b[1;32m      4\u001b[0m \u001b[0;34m\u001b[0m\u001b[0m\n\u001b[1;32m      5\u001b[0m \u001b[0mfailed\u001b[0m \u001b[0;34m=\u001b[0m \u001b[0mFailedMagic\u001b[0m\u001b[0;34m(\u001b[0m\u001b[0;34m)\u001b[0m\u001b[0;34m\u001b[0m\u001b[0m\n\u001b[0;32m----> 6\u001b[0;31m \u001b[0mprint\u001b[0m\u001b[0;34m(\u001b[0m\u001b[0mfailed\u001b[0m\u001b[0;34m)\u001b[0m \u001b[0;31m# Error!\u001b[0m\u001b[0;34m\u001b[0m\u001b[0m\n\u001b[0m",
      "\u001b[0;31mTypeError\u001b[0m: __str__ returned non-string (type int)"
     ]
    }
   ],
   "source": [
    "class FailedMagic:\n",
    "    def __str__(self):\n",
    "        return 1\n",
    "    \n",
    "failed = FailedMagic()\n",
    "print(failed) # Error!"
   ]
  },
  {
   "cell_type": "markdown",
   "metadata": {},
   "source": [
    "### Getters & Setters"
   ]
  },
  {
   "cell_type": "markdown",
   "metadata": {},
   "source": [
    "Descriptor class\n",
    "\n",
    "Properies are referenced like variables, but they run "
   ]
  },
  {
   "cell_type": "code",
   "execution_count": 29,
   "metadata": {},
   "outputs": [
    {
     "name": "stdout",
     "output_type": "stream",
     "text": [
      "setter of x called\n",
      "getter of x called\n",
      "deleter of x called\n"
     ]
    }
   ],
   "source": [
    "class C(object):\n",
    "    def __init__(self):\n",
    "        self._x = None\n",
    "\n",
    "    @property\n",
    "    def x(self):\n",
    "        \"\"\"I'm the 'x' property.\"\"\"\n",
    "        print(\"getter of x called\")\n",
    "        return self._x\n",
    "\n",
    "    @x.setter\n",
    "    def x(self, value):\n",
    "        print(\"setter of x called\")\n",
    "        self._x = value\n",
    "\n",
    "    @x.deleter\n",
    "    def x(self):\n",
    "        print(\"deleter of x called\")\n",
    "        del self._x\n",
    "\n",
    "\n",
    "c = C()\n",
    "c.x = 'foo'  # setter called\n",
    "foo = c.x    # getter called\n",
    "del c.x      # deleter called"
   ]
  },
  {
   "cell_type": "code",
   "execution_count": 30,
   "metadata": {},
   "outputs": [
    {
     "data": {
      "text/plain": [
       "8333333"
      ]
     },
     "execution_count": 30,
     "metadata": {},
     "output_type": "execute_result"
    }
   ],
   "source": [
    "class Employee:\n",
    "    def __init__(self, name, salary):\n",
    "        self.name = name\n",
    "        self.salary = salary\n",
    "    \n",
    "    @property # This is actually a decorator. But more on that later..\n",
    "    def monthly(self):\n",
    "        return round(self.salary/12)\n",
    "    \n",
    "    @property    \n",
    "    def hourly(self):\n",
    "        return round(self.monthly/209)\n",
    "\n",
    "emp1 = Employee('YC', 100_000_000) # super high salary..!\n",
    "emp1.monthly # super high monthly pay..!"
   ]
  },
  {
   "cell_type": "code",
   "execution_count": 31,
   "metadata": {},
   "outputs": [
    {
     "data": {
      "text/plain": [
       "833333"
      ]
     },
     "execution_count": 31,
     "metadata": {},
     "output_type": "execute_result"
    }
   ],
   "source": [
    "emp1.salary = 10_000_000 # salary slashed... \n",
    "emp1.monthly # monthly pay automatically adjusted..!"
   ]
  },
  {
   "cell_type": "code",
   "execution_count": 32,
   "metadata": {},
   "outputs": [
    {
     "name": "stdout",
     "output_type": "stream",
     "text": [
      "Salary setter method called!\n"
     ]
    },
    {
     "data": {
      "text/plain": [
       "8333333"
      ]
     },
     "execution_count": 32,
     "metadata": {},
     "output_type": "execute_result"
    }
   ],
   "source": [
    "# Another approach\n",
    "class Employee:\n",
    "    def __init__(self, name, salary):\n",
    "        self.name = name\n",
    "        self.salary = salary\n",
    "    \n",
    "    @property # This is actually a decorator. But more on that later..\n",
    "    def salary(self):\n",
    "        return self._salary\n",
    "    \n",
    "    @salary.getter\n",
    "    def salary(self):\n",
    "        return self._salary\n",
    "    \n",
    "    @salary.setter\n",
    "    def salary(self, value):\n",
    "        print('Salary setter method called!')\n",
    "        self._salary = value\n",
    "        self.monthly = round(value/12)\n",
    "        self.hourly = round(self.monthly/209)\n",
    "\n",
    "emp1 = Employee('YC', 100_000_000) # super high salary..!\n",
    "emp1.monthly  # super high monthly pay..!"
   ]
  },
  {
   "cell_type": "code",
   "execution_count": 33,
   "metadata": {},
   "outputs": [
    {
     "name": "stdout",
     "output_type": "stream",
     "text": [
      "Salary setter method called!\n"
     ]
    },
    {
     "data": {
      "text/plain": [
       "833333"
      ]
     },
     "execution_count": 33,
     "metadata": {},
     "output_type": "execute_result"
    }
   ],
   "source": [
    "emp1.salary = 10_000_000 # salary slashed... \n",
    "emp1.monthly # monthly pay automatically adjusted..!"
   ]
  },
  {
   "cell_type": "markdown",
   "metadata": {},
   "source": [
    "## Advanced"
   ]
  },
  {
   "cell_type": "markdown",
   "metadata": {},
   "source": [
    "### Meta Classes"
   ]
  },
  {
   "cell_type": "markdown",
   "metadata": {},
   "source": [
    "https://www.youtube.com/watch?v=cKPlPJyQrt4\n",
    "\n",
    "\n",
    "Use case of meta classes is to enforce constraint of the construction of the derived class from the base class "
   ]
  },
  {
   "cell_type": "code",
   "execution_count": 34,
   "metadata": {},
   "outputs": [
    {
     "name": "stdout",
     "output_type": "stream",
     "text": [
      "BaseMeta.__new__ is being called\n",
      "cls: <class '__main__.BaseMeta'>\n",
      "name: Base\n",
      "bases: ()\n",
      "body: {'__module__': '__main__', '__qualname__': 'Base'}\n",
      "====================================================\n",
      "type.__new__(BaseMeta, 'Base', (), {'__module__': '__main__', '__qualname__': 'Base'})\n",
      "====================================================\n",
      "BaseMeta.__new__ is being called\n",
      "cls: <class '__main__.BaseMeta'>\n",
      "name: Derived\n",
      "bases: (<class '__main__.Base'>,)\n",
      "body: {'__module__': '__main__', '__qualname__': 'Derived', '__init__': <function Derived.__init__ at 0x10d257620>, 'myfunc': <function Derived.myfunc at 0x10d257598>}\n"
     ]
    }
   ],
   "source": [
    "class BaseMeta(type): # Meta classes are derived from type\n",
    "    def __new__(cls, name, bases, body): # class constructor magic method\n",
    "        print('BaseMeta.__new__ is being called')\n",
    "        print(f\"cls: {cls}\")\n",
    "        print(f\"name: {name}\")\n",
    "        print(f\"bases: {bases}\")\n",
    "        print(f\"body: {body}\")\n",
    "        \n",
    "        if (name is not 'Base') and ('myfunc' not in body): # Enforcement statement\n",
    "            raise TypeError(\"myfunc method has not been defined!\")\n",
    "        \n",
    "        return super().__new__(cls, name, bases, body)\n",
    "\n",
    "class Base(metaclass=BaseMeta):\n",
    "    pass\n",
    "\n",
    "print('====================================================')\n",
    "print(\"type.__new__(BaseMeta, 'Base', (), {'__module__': '__main__', '__qualname__': 'Base'})\")\n",
    "print('====================================================')\n",
    "\n",
    "class Derived(Base):\n",
    "    def __init__(self, hello):\n",
    "        self.hello = hello\n",
    "        \n",
    "    def myfunc(self):\n",
    "        return \"func!\""
   ]
  },
  {
   "cell_type": "code",
   "execution_count": 35,
   "metadata": {},
   "outputs": [
    {
     "name": "stdout",
     "output_type": "stream",
     "text": [
      "BaseMeta.__new__ is being called\n",
      "cls: <class '__main__.BaseMeta'>\n",
      "name: AnotherDerived\n",
      "bases: (<class '__main__.Base'>,)\n",
      "body: {'__module__': '__main__', '__qualname__': 'AnotherDerived'}\n"
     ]
    },
    {
     "ename": "TypeError",
     "evalue": "myfunc method has not been defined!",
     "output_type": "error",
     "traceback": [
      "\u001b[0;31m---------------------------------------------------------------------------\u001b[0m",
      "\u001b[0;31mTypeError\u001b[0m                                 Traceback (most recent call last)",
      "\u001b[0;32m<ipython-input-35-aba95c59b10c>\u001b[0m in \u001b[0;36m<module>\u001b[0;34m()\u001b[0m\n\u001b[0;32m----> 1\u001b[0;31m \u001b[0;32mclass\u001b[0m \u001b[0mAnotherDerived\u001b[0m\u001b[0;34m(\u001b[0m\u001b[0mBase\u001b[0m\u001b[0;34m)\u001b[0m\u001b[0;34m:\u001b[0m\u001b[0;34m\u001b[0m\u001b[0m\n\u001b[0m\u001b[1;32m      2\u001b[0m     \u001b[0;32mpass\u001b[0m \u001b[0;31m# Error!\u001b[0m\u001b[0;34m\u001b[0m\u001b[0m\n",
      "\u001b[0;32m<ipython-input-34-db198f8c4d3d>\u001b[0m in \u001b[0;36m__new__\u001b[0;34m(cls, name, bases, body)\u001b[0m\n\u001b[1;32m      8\u001b[0m \u001b[0;34m\u001b[0m\u001b[0m\n\u001b[1;32m      9\u001b[0m         \u001b[0;32mif\u001b[0m \u001b[0;34m(\u001b[0m\u001b[0mname\u001b[0m \u001b[0;32mis\u001b[0m \u001b[0;32mnot\u001b[0m \u001b[0;34m'Base'\u001b[0m\u001b[0;34m)\u001b[0m \u001b[0;32mand\u001b[0m \u001b[0;34m(\u001b[0m\u001b[0;34m'myfunc'\u001b[0m \u001b[0;32mnot\u001b[0m \u001b[0;32min\u001b[0m \u001b[0mbody\u001b[0m\u001b[0;34m)\u001b[0m\u001b[0;34m:\u001b[0m \u001b[0;31m# Enforcement statement\u001b[0m\u001b[0;34m\u001b[0m\u001b[0m\n\u001b[0;32m---> 10\u001b[0;31m             \u001b[0;32mraise\u001b[0m \u001b[0mTypeError\u001b[0m\u001b[0;34m(\u001b[0m\u001b[0;34m\"myfunc method has not been defined!\"\u001b[0m\u001b[0;34m)\u001b[0m\u001b[0;34m\u001b[0m\u001b[0m\n\u001b[0m\u001b[1;32m     11\u001b[0m \u001b[0;34m\u001b[0m\u001b[0m\n\u001b[1;32m     12\u001b[0m         \u001b[0;32mreturn\u001b[0m \u001b[0msuper\u001b[0m\u001b[0;34m(\u001b[0m\u001b[0;34m)\u001b[0m\u001b[0;34m.\u001b[0m\u001b[0m__new__\u001b[0m\u001b[0;34m(\u001b[0m\u001b[0mcls\u001b[0m\u001b[0;34m,\u001b[0m \u001b[0mname\u001b[0m\u001b[0;34m,\u001b[0m \u001b[0mbases\u001b[0m\u001b[0;34m,\u001b[0m \u001b[0mbody\u001b[0m\u001b[0;34m)\u001b[0m\u001b[0;34m\u001b[0m\u001b[0m\n",
      "\u001b[0;31mTypeError\u001b[0m: myfunc method has not been defined!"
     ]
    }
   ],
   "source": [
    "class AnotherDerived(Base):\n",
    "    pass # Error!"
   ]
  },
  {
   "cell_type": "markdown",
   "metadata": {},
   "source": [
    "#### __init_subclass__"
   ]
  },
  {
   "cell_type": "markdown",
   "metadata": {},
   "source": [
    "parent's \"\\_\\_init_subclass\\_\\_\" called during \"\\_\\_new\\_\\_\"?"
   ]
  },
  {
   "cell_type": "code",
   "execution_count": 36,
   "metadata": {},
   "outputs": [
    {
     "name": "stdout",
     "output_type": "stream",
     "text": [
      "BaseMeta.__new__ is being called\n",
      "cls: <class '__main__.BaseMeta'>\n",
      "name: Base\n",
      "bases: ()\n",
      "body: {'__module__': '__main__', '__qualname__': 'Base', '__init_subclass__': <function Base.__init_subclass__ at 0x10d257bf8>, '__classcell__': <cell at 0x10d2d4768: empty>}\n",
      "====================================================\n",
      "BaseMeta.__new__ is being called\n",
      "cls: <class '__main__.BaseMeta'>\n",
      "name: Derived\n",
      "bases: (<class '__main__.Base'>,)\n",
      "body: {'__module__': '__main__', '__qualname__': 'Derived', '__init__': <function Derived.__init__ at 0x10d2bf0d0>, 'myfunc': <function Derived.myfunc at 0x10d2bf268>}\n",
      "Calling init_subclass () {}\n"
     ]
    }
   ],
   "source": [
    "class Base(metaclass=BaseMeta):\n",
    "    def __init_subclass__(self, *args, **kwargs):\n",
    "        print('Calling init_subclass', args, kwargs)\n",
    "        return super().__init_subclass__(*args, **kwargs)\n",
    "\n",
    "print('====================================================')\n",
    "\n",
    "class Derived(Base):\n",
    "    def __init__(self, hello):\n",
    "        self.hello = hello\n",
    "    def myfunc(self):\n",
    "        return \"func!\""
   ]
  }
 ],
 "metadata": {
  "kernelspec": {
   "display_name": "Python 3",
   "language": "python",
   "name": "python3"
  },
  "language_info": {
   "codemirror_mode": {
    "name": "ipython",
    "version": 3
   },
   "file_extension": ".py",
   "mimetype": "text/x-python",
   "name": "python",
   "nbconvert_exporter": "python",
   "pygments_lexer": "ipython3",
   "version": "3.6.4"
  },
  "toc": {
   "base_numbering": 1,
   "nav_menu": {},
   "number_sections": true,
   "sideBar": true,
   "skip_h1_title": false,
   "title_cell": "Table of Contents",
   "title_sidebar": "Contents",
   "toc_cell": false,
   "toc_position": {},
   "toc_section_display": true,
   "toc_window_display": false
  },
  "varInspector": {
   "cols": {
    "lenName": 16,
    "lenType": 16,
    "lenVar": 40
   },
   "kernels_config": {
    "python": {
     "delete_cmd_postfix": "",
     "delete_cmd_prefix": "del ",
     "library": "var_list.py",
     "varRefreshCmd": "print(var_dic_list())"
    },
    "r": {
     "delete_cmd_postfix": ") ",
     "delete_cmd_prefix": "rm(",
     "library": "var_list.r",
     "varRefreshCmd": "cat(var_dic_list()) "
    }
   },
   "types_to_exclude": [
    "module",
    "function",
    "builtin_function_or_method",
    "instance",
    "_Feature"
   ],
   "window_display": false
  }
 },
 "nbformat": 4,
 "nbformat_minor": 2
}
