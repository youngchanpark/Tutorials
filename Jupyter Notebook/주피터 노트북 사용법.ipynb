{
 "cells": [
  {
   "cell_type": "markdown",
   "metadata": {
    "heading_collapsed": true
   },
   "source": [
    "# 전제 조건"
   ]
  },
  {
   "cell_type": "markdown",
   "metadata": {
    "hidden": true
   },
   "source": [
    "해당 내용은 피교육자가 `python3` 또는 `anaconda`를 설치했다는 가정하에 진행됩니다.  \n",
    "\n",
    "설치는 아래 링크로 가시면 설치가 가능합니다.  \n",
    "파이썬: https://www.python.org/downloads/  \n",
    "아나콘다: https://www.anaconda.com/products/individual  "
   ]
  },
  {
   "cell_type": "markdown",
   "metadata": {
    "heading_collapsed": true
   },
   "source": [
    "# 주피터 노트북 실행"
   ]
  },
  {
   "cell_type": "markdown",
   "metadata": {
    "hidden": true
   },
   "source": [
    "## 파이썬"
   ]
  },
  {
   "cell_type": "markdown",
   "metadata": {
    "hidden": true
   },
   "source": [
    "파이썬만 설치했다면 커멘드라인에 파이썬의 패키지 매니저인 `pip`을 사용해서 주피터를 설치:\n",
    "```bash\n",
    "$ pip3 install notebook\n",
    "```  \n",
    "\n",
    "설치가 완료 됐다면 주피터 노트북을 실행하기 위해서 커멘드라인에 다음 커멘드를 실행:  \n",
    "```bash\n",
    "$ jupyter-notebook\n",
    "# 또는 \n",
    "$ jupyter notebook\n",
    "```"
   ]
  },
  {
   "cell_type": "markdown",
   "metadata": {
    "hidden": true
   },
   "source": [
    "## 아나콘다"
   ]
  },
  {
   "cell_type": "markdown",
   "metadata": {
    "hidden": true
   },
   "source": [
    "아나콘다를 설치했다면 주피터 노트북은 이미 같이 설치가 됐을 거다.  \n",
    "\n",
    "아나콘다 애플리케이션을 실행해서 주피터 노트북 실행."
   ]
  },
  {
   "cell_type": "markdown",
   "metadata": {
    "heading_collapsed": true
   },
   "source": [
    "# 노트북 구조"
   ]
  },
  {
   "cell_type": "markdown",
   "metadata": {
    "heading_collapsed": true,
    "hidden": true
   },
   "source": [
    "## 노트북 대시보드"
   ]
  },
  {
   "cell_type": "markdown",
   "metadata": {
    "hidden": true
   },
   "source": [
    "처음 노트북을 실행하면 아래와 같이 대시보드가 열립니다. \n",
    "\n",
    "![image](./static/notebook_dashboard.png)"
   ]
  },
  {
   "cell_type": "markdown",
   "metadata": {
    "hidden": true
   },
   "source": [
    "여기서 파일을 열람하고 수정할 수 있으며, 폴더를 열어볼 수 있고, 무엇보다 중요한 주피터 노트북 파일을 열고 새로 생성할 수 있습니다.  \n",
    "\n",
    "새로운 노트북을 생성하려면 오른쪽 위에 위치한 New 버튼을 실행해서 커널을 골라주세요."
   ]
  },
  {
   "cell_type": "markdown",
   "metadata": {
    "hidden": true
   },
   "source": [
    "![new](./static/notebook_dashboard_new.png)"
   ]
  },
  {
   "cell_type": "markdown",
   "metadata": {
    "heading_collapsed": true,
    "hidden": true
   },
   "source": [
    "## 주피터 노트북"
   ]
  },
  {
   "cell_type": "markdown",
   "metadata": {
    "hidden": true
   },
   "source": [
    "새로운 노트북을 생성하면 생성하면서 동시에 아래와 같이 새로운 창이 열려서 파일을 수정할 수 있습니다."
   ]
  },
  {
   "cell_type": "markdown",
   "metadata": {
    "hidden": true
   },
   "source": [
    "![notebook](./static/notebook.png)"
   ]
  },
  {
   "cell_type": "markdown",
   "metadata": {
    "heading_collapsed": true,
    "hidden": true
   },
   "source": [
    "### 노트북 상단 메뉴"
   ]
  },
  {
   "cell_type": "markdown",
   "metadata": {
    "hidden": true
   },
   "source": [
    "노트북 위쪽엔 노트북 기능들에 대한 메뉴가 있습니다. 노트북 파일을 저장할 수 있고, 파일명을 수정할 수 있고, 코드를 실행하거나 커널을 바꾸는 등등, 다양한 기능들이 제공됩니다.  \n",
    "\n",
    "추가로, 노트북 파일은 일정 시간이 지나거나 수정사항이 발생할때마다 자동으로 저장이 됩니다."
   ]
  },
  {
   "cell_type": "markdown",
   "metadata": {
    "heading_collapsed": true,
    "hidden": true
   },
   "source": [
    "### 노트북 하단 내용물"
   ]
  },
  {
   "cell_type": "markdown",
   "metadata": {
    "hidden": true
   },
   "source": [
    "노트북 아래쪽에 작은 상자들은 노트북의 내용물들입니다. 여기에 코드를 실행해서 실행 결과를 실시간으로 확인하며 저장할 수 있고, 그리고 markdown을 작성해서 문서 내용도 작성할 수 있습니다."
   ]
  },
  {
   "cell_type": "markdown",
   "metadata": {},
   "source": [
    "# 노트북 사용법"
   ]
  },
  {
   "cell_type": "markdown",
   "metadata": {
    "heading_collapsed": true
   },
   "source": [
    "## Cell에 대하여"
   ]
  },
  {
   "cell_type": "markdown",
   "metadata": {
    "hidden": true
   },
   "source": [
    "노트북 내용물은 셀(cell)로 구성이 되어 있습니다. 지금 읽고 계신 이 글도 markdown 타입의 셀에 작성된 내용입니다.  \n",
    "셀 종류는 3가지가 있습니다: \n",
    "1. 코드 (Code)\n",
    "2. 마크다운 (Markdown)\n",
    "3. 로우 (Raw)  \n",
    "\n",
    "주로 코드와 마크다운 셀을 작성하실 겁니다."
   ]
  },
  {
   "cell_type": "markdown",
   "metadata": {
    "heading_collapsed": true,
    "hidden": true
   },
   "source": [
    "### 코드 셀"
   ]
  },
  {
   "cell_type": "markdown",
   "metadata": {
    "hidden": true
   },
   "source": [
    "코드셀은 셀에 직접 코드를 작성해서 실행할 수 있는 셀입니다. 코드셀에 코드를 작성하면 실행 결과를 바로 하단에 표기를 해줍니다.  \n",
    "아래가 코드셀의 예시입니다."
   ]
  },
  {
   "cell_type": "code",
   "execution_count": 1,
   "metadata": {
    "hidden": true
   },
   "outputs": [
    {
     "name": "stdout",
     "output_type": "stream",
     "text": [
      "Hello World!\n"
     ]
    }
   ],
   "source": [
    "print('Hello World!')"
   ]
  },
  {
   "cell_type": "markdown",
   "metadata": {
    "hidden": true
   },
   "source": [
    "위 코드셀의 왼쪽을 보면, `In [1]`와 같이 코드셀이 실행된 순서가 적혀 있고, 주피터가 바로 하단에 아웃풋 결과를 표기해줍니다.  주피터는 한번에 한 개의 코드셀만 실행할 수 있으며, 여러 코드셀을 실행했을 경우 실행한 순서에 따라 코드셀들이 실행됩니다."
   ]
  },
  {
   "cell_type": "markdown",
   "metadata": {
    "hidden": true
   },
   "source": [
    "### 마크다운 셀"
   ]
  },
  {
   "cell_type": "markdown",
   "metadata": {
    "hidden": true
   },
   "source": [
    "마크다운 셀은 특정 텍스트 기호들을 인식해서 해당 기호들을 기반으로 추가 기능들을 구현해줍니다. \n",
    "\n",
    "예를 들기 위해 아래에 2개의 마크다운 셀을 작성하고, 윗 셀은 실행하지 않고 아랫 셀은 실행해놓겠습니다."
   ]
  },
  {
   "cell_type": "markdown",
   "metadata": {
    "hidden": true
   },
   "source": [
    "이건 __bold__, 이건 _italic_.  \n",
    "\n",
    "[네이버 링크](www.naver.com)  \n",
    "\n",
    "한줄 코드 `print('Hello World!')`  \n",
    "\n",
    "여러줄 코드\n",
    "```python3\n",
    "print('Hello World!')\n",
    "print('Hello Again!')\n",
    "```  \n",
    "\n",
    "테이블  \n",
    "\n",
    "| 열1       | 열2           | 열3  |  \n",
    "|----------|---------------|-----|  \n",
    "| 행1       | right-aligned | 1600|  \n",
    "| 행2       | centered      | 12  |  \n",
    "| 행3       | are neat      | 1   |"
   ]
  },
  {
   "cell_type": "markdown",
   "metadata": {
    "hidden": true
   },
   "source": [
    "이건 __bold__, 이건 _italic_.  \n",
    "\n",
    "[네이버 링크](www.naver.com)  \n",
    "\n",
    "한줄 코드 `print('Hello World!')`  \n",
    "\n",
    "여러줄 코드\n",
    "```python3\n",
    "print('Hello World!')\n",
    "print('Hello Again!')\n",
    "```  \n",
    "\n",
    "테이블  \n",
    "\n",
    "| 열1       | 열2           | 열3  |  \n",
    "|----------|---------------|-----|  \n",
    "| 행1       | right-aligned | 1600|  \n",
    "| 행2       | centered      | 12  |  \n",
    "| 행3       | are neat      | 1   |"
   ]
  },
  {
   "cell_type": "markdown",
   "metadata": {
    "hidden": true
   },
   "source": [
    "위에 보인 몇가지 예시 외에도 다양한 걸 구현할 수 있습니다. \n",
    "\n",
    "나머지 자세한 설명은 나무위키와 위키피디아에게 넘깁니다.  \n",
    "위키피디아: https://ko.wikipedia.org/wiki/%EB%A7%88%ED%81%AC%EB%8B%A4%EC%9A%B4  \n",
    "나무위키: https://namu.wiki/w/%EB%A7%88%ED%81%AC%EB%8B%A4%EC%9A%B4"
   ]
  },
  {
   "cell_type": "markdown",
   "metadata": {},
   "source": [
    "## Command와 Edit 모드"
   ]
  },
  {
   "cell_type": "markdown",
   "metadata": {},
   "source": [
    "주피터 노트북을 사용할때 두 가지 모드로 나뉩니다.  \n",
    "\n",
    "Command 모드: 셀 간에 이동과 셀을 수정하는 모드.  \n",
    "Edit 모드: 셀의 내용물을 수정하는 모드.  "
   ]
  },
  {
   "cell_type": "markdown",
   "metadata": {},
   "source": [
    "### Command Mode"
   ]
  },
  {
   "cell_type": "markdown",
   "metadata": {},
   "source": [
    "커맨드 모드일때는 아래와 같이 현재 선택된 셀의 왼쪽 테두리가 파란색으로 표시됩니다.  "
   ]
  },
  {
   "cell_type": "markdown",
   "metadata": {},
   "source": [
    "![](./static/notebook_command.png)"
   ]
  },
  {
   "cell_type": "markdown",
   "metadata": {},
   "source": [
    "커멘드 모드일때는 키보드의 방향키로 셀간 이동이 가능하고, 단축키를 사용해서 새로운 셀을 생성하거나, 삭제하거나, 셀 타입을 바꾸는 등, 셀에 대한 기능들을 수행할 수 있습니다.  \n",
    "\n",
    "커멘드 모드에서 에딧 모드로 가고 싶을 경우엔 **Enter** 키를 누르면 됩니다."
   ]
  },
  {
   "cell_type": "markdown",
   "metadata": {},
   "source": [
    "### Edit Mode"
   ]
  },
  {
   "cell_type": "markdown",
   "metadata": {},
   "source": [
    "에딧 모드일때는 현재 선택한 셀의 테두리가 아래와 같이 초록색으로 표시됩니다.\n",
    "\n",
    "![notebook_edit](./static/notebook_edit.png)"
   ]
  },
  {
   "cell_type": "markdown",
   "metadata": {},
   "source": [
    "에딧 모드일때는 셀의 내용물들을 수정하고 실행할 수 있습니다. 해당 모드에서도 셀의 위 또는 아래로 끝까지 이동했다가 한번 더 이동을 하면 다음 셀의 내용물에 도달하게 되어 인접 셀들도 수정할 수 있습니다.  \n",
    "\n",
    "에딧 모드에서 커멘드 모드로 가고 싶을땐 **ESC** 키를 누르면 됩니다."
   ]
  },
  {
   "cell_type": "markdown",
   "metadata": {},
   "source": [
    "## 단축키"
   ]
  },
  {
   "cell_type": "markdown",
   "metadata": {},
   "source": [
    "주피터 노트북을 더 편하게 사용하기 위해 다양한 단축키들이 설정되어 있습니다.  \n",
    "\n",
    "단축키 리스트는 상단의 Help 메뉴에 Keyboard Shortcuts를 누르시면 볼 수 있습니다.\n",
    "\n",
    "각 모드에 따라 단축키가 다른 점 숙지해주세요!\n",
    "\n",
    "![](./static/notebook_shortcuts_command)\n",
    "![shortcuts_edit](./static/notebook_shortcuts_edit)"
   ]
  },
  {
   "cell_type": "code",
   "execution_count": null,
   "metadata": {},
   "outputs": [],
   "source": []
  }
 ],
 "metadata": {
  "kernelspec": {
   "display_name": "Python 3.8",
   "language": "python",
   "name": "python3.8"
  },
  "language_info": {
   "codemirror_mode": {
    "name": "ipython",
    "version": 3
   },
   "file_extension": ".py",
   "mimetype": "text/x-python",
   "name": "python",
   "nbconvert_exporter": "python",
   "pygments_lexer": "ipython3",
   "version": "3.8.3"
  },
  "toc": {
   "base_numbering": 1,
   "nav_menu": {},
   "number_sections": true,
   "sideBar": true,
   "skip_h1_title": false,
   "title_cell": "Table of Contents",
   "title_sidebar": "Contents",
   "toc_cell": false,
   "toc_position": {},
   "toc_section_display": true,
   "toc_window_display": false
  },
  "varInspector": {
   "cols": {
    "lenName": 16,
    "lenType": 16,
    "lenVar": 40
   },
   "kernels_config": {
    "python": {
     "delete_cmd_postfix": "",
     "delete_cmd_prefix": "del ",
     "library": "var_list.py",
     "varRefreshCmd": "print(var_dic_list())"
    },
    "r": {
     "delete_cmd_postfix": ") ",
     "delete_cmd_prefix": "rm(",
     "library": "var_list.r",
     "varRefreshCmd": "cat(var_dic_list()) "
    }
   },
   "types_to_exclude": [
    "module",
    "function",
    "builtin_function_or_method",
    "instance",
    "_Feature"
   ],
   "window_display": false
  }
 },
 "nbformat": 4,
 "nbformat_minor": 4
}
