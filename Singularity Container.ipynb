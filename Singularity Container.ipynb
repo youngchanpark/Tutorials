{
 "cells": [
  {
   "cell_type": "markdown",
   "metadata": {},
   "source": [
    "# Singularity"
   ]
  },
  {
   "cell_type": "markdown",
   "metadata": {},
   "source": [
    "References: https://sylabs.io/docs/"
   ]
  },
  {
   "cell_type": "markdown",
   "metadata": {},
   "source": [
    "# Container technology comparison"
   ]
  },
  {
   "cell_type": "markdown",
   "metadata": {},
   "source": [
    "<img src=\"https://tin6150.github.io/psg/fig/vm_vs_container.png\">\n",
    "\n",
    "\n",
    "\n",
    "[Container technology comparison](https://tin6150.github.io/psg/blogger_container_hpc.html)"
   ]
  },
  {
   "cell_type": "markdown",
   "metadata": {},
   "source": [
    "## Build"
   ]
  },
  {
   "cell_type": "markdown",
   "metadata": {},
   "source": [
    "### From pre-built images"
   ]
  },
  {
   "cell_type": "markdown",
   "metadata": {},
   "source": [
    "Build command can only be performed by root or sudoer\n",
    "\n",
    "Command syntax:  \n",
    "```bash\n",
    "$ {sudo} singularity build {image_name} {image_uri or definition file}\n",
    "```\n",
    "\n",
    "\n",
    "Examples:\n",
    "```bash\n",
    "$ sudo singularity build ubuntu.sif library://ubuntu\n",
    "$ sudo singularity build lolcow.sif docker://godlovedc/lolcow\n",
    "```\n",
    "\n",
    "Sylabs Container Library: https://cloud.sylabs.io/library  \n",
    "DockerHub: https://hub.docker.com/  \n"
   ]
  },
  {
   "cell_type": "markdown",
   "metadata": {},
   "source": [
    "### From definition file"
   ]
  },
  {
   "cell_type": "markdown",
   "metadata": {},
   "source": [
    "lolcow.def\n",
    "```bash\n",
    "BootStrap: library\n",
    "From: ubuntu:16.04\n",
    "\n",
    "%post\n",
    "    apt-get -y update\n",
    "    apt-get -y install fortune cowsay lolcat\n",
    "\n",
    "%environment\n",
    "    export LC_ALL=C\n",
    "    export PATH=/usr/games:$PATH\n",
    "\n",
    "%runscript\n",
    "    fortune | cowsay | lolcat\n",
    "\n",
    "%labels\n",
    "    Author GodloveD\n",
    "```\n",
    "\n",
    "Build `lolcow.sif` from the `lolcow.def` definition file.\n",
    "```bash\n",
    "$ sudo singularity build lolcow.sif lolcow.def\n",
    "```"
   ]
  },
  {
   "cell_type": "markdown",
   "metadata": {},
   "source": [
    "### About `--sandbox`"
   ]
  },
  {
   "cell_type": "markdown",
   "metadata": {},
   "source": [
    "```bash\n",
    "$ sudo singularity build --sandbox sandbox.simg library://centos:latest\n",
    "$ ls -ld sandbox.simg/\n",
    "dr-xr-xr-x. 18 root root 4096 May 19  2019 sandbox.simg/\n",
    "```\n",
    "Do you see that its a directory?  \n",
    "You can also `cd` into it.\n",
    "\n",
    "```bash\n",
    "$ cd sandbox.simg/\n",
    "$ ls\n",
    "bin  boot  dev  environment  etc  home  lib  lib64  media  mnt  opt  proc  root  run  sbin  singularity  srv  sys  tmp  usr  var\n",
    "```\n",
    "Looks just like a regular old linux root directory!"
   ]
  },
  {
   "cell_type": "markdown",
   "metadata": {},
   "source": [
    "## Interacting with images"
   ]
  },
  {
   "cell_type": "markdown",
   "metadata": {},
   "source": [
    "### Shell"
   ]
  },
  {
   "cell_type": "markdown",
   "metadata": {},
   "source": [
    "```bash\n",
    "$ singularity shell lolcow.sif\n",
    "\n",
    "Singularity lolcow.sif:~> whoami\n",
    "username\n",
    "Singularity lolcow.sif:~> id\n",
    "uid=1000(username) gid=1000(username) groups=1000(username)\n",
    "Singularity lolcow.sif:~> exit\n",
    "\n",
    "$ sudo singularity shell lolcow.sif\n",
    "Singularity lolcow.sif:~> whoami\n",
    "root\n",
    "Singularity lolcow.sif:~> id\n",
    "uid=0(root) gid=0(root) groups=0(root)\n",
    "```"
   ]
  },
  {
   "cell_type": "markdown",
   "metadata": {},
   "source": [
    "Use the `--writable` option to persist changes in the container.  \n",
    "\n",
    "Readonly Example:\n",
    "```bash\n",
    "# Shell inside the container \n",
    "$ singularity shell sandbox.simg\n",
    "\n",
    "# Try and make a file in the root directory\n",
    "Singularity sandbox.simg:~> echo \"Hello World\" > /hello.txt\n",
    "bash: /hello.txt: Read-only file system\n",
    "```\n",
    "Error. The file cannot be made.  \n",
    "\n",
    "Give the `--writable` option to persist changes in the container.  \n",
    "```bash\n",
    "# shell back inside the container\n",
    "# You probably need to shell as root unless you changed the permission of the container\n",
    "$ sudo singularity shell --writable sandbox.simg\n",
    "\n",
    "# Make the same file as last time, only it works this time.\n",
    "Singularity sandbox.simg:~> echo \"Hello World!\" > /hello.txt\n",
    "\n",
    "# Exit the container and come back in\n",
    "Singularity sandbox.simg:~> exit\n",
    "$ singularity shell sandbox.simg\n",
    "\n",
    "# check if the previously made file exists\n",
    "Singularity sandbox.simg:~> cat /hello.txt\n",
    "Hello World!\n",
    "```\n",
    "\n",
    "You can also now install linux packages with the `--writable` option enabled.\n",
    "\n",
    "```bash\n",
    "# shell in as root with writable enabled\n",
    "$ sudo singularity shell --writable sandbox.simg\n",
    "\n",
    "# Let's install python3\n",
    "Singularity sandbox.simg:~> yum install -y python3\n",
    "\n",
    "# Fuck it.. Let's also install the Python package FuckIt\n",
    "# https://github.com/ajalt/fuckitpy\n",
    "Singularity sandbox.simg:~> pip3 install fuckit\n",
    "```"
   ]
  },
  {
   "cell_type": "markdown",
   "metadata": {},
   "source": [
    "### Executing Commands"
   ]
  },
  {
   "cell_type": "markdown",
   "metadata": {},
   "source": [
    "`exec` subcommand is used to execute a command within the container.  \n",
    "For example, the following command instructs the container `lolcow.sif` to execute `cowsay moo`:\n",
    "\n",
    "```bash\n",
    "$ singularity exec lolcow.sif cowsay moo\n",
    "```"
   ]
  },
  {
   "cell_type": "markdown",
   "metadata": {},
   "source": [
    "### Running a container"
   ]
  },
  {
   "cell_type": "markdown",
   "metadata": {},
   "source": [
    "```bash\n",
    "$ singularity run lolcow_latest.sif\n",
    "```"
   ]
  },
  {
   "cell_type": "markdown",
   "metadata": {},
   "source": [
    "### Binding (`--bind` / `-B`)"
   ]
  },
  {
   "cell_type": "markdown",
   "metadata": {},
   "source": [
    "The benefits of using a container is that the container and the host system has a completely distinct environment. So changing the environment in one does not affect the environment of the other. However, separation of the environment also imply a separation of the file system between the two.\n",
    "\n",
    "As shown so far, the host filesystem has access to `sandbox` container images but not the other way around. But one major use case of containers are to set up a system where the softwares in the container manipulates and changes the files in the host file system. \n",
    "\n",
    "So how can we get our containers to access the host file system? The answer: binding.\n"
   ]
  },
  {
   "cell_type": "markdown",
   "metadata": {},
   "source": [
    "```bash\n",
    "$ echo 'Hello from the host!' > ~/hello_host.txt\n",
    "$ singularity shell sandbox.simg\n",
    "Singularity sandbox.simg:~> cat ~/hello_host.txt\n",
    "Hello from the host!\n",
    "```\n",
    "By default Singularity bind mounts `/home/$USER`, `/tmp`, and `$PWD` into your container at runtime.  \n",
    "\n",
    "By using the `--bind` command, we can mount additional host file system directories onto directories inside the container."
   ]
  },
  {
   "cell_type": "markdown",
   "metadata": {},
   "source": []
  }
 ],
 "metadata": {
  "kernelspec": {
   "display_name": "Python 3",
   "language": "python",
   "name": "python3"
  },
  "language_info": {
   "codemirror_mode": {
    "name": "ipython",
    "version": 3
   },
   "file_extension": ".py",
   "mimetype": "text/x-python",
   "name": "python",
   "nbconvert_exporter": "python",
   "pygments_lexer": "ipython3",
   "version": "3.6.4"
  },
  "toc": {
   "base_numbering": 1,
   "nav_menu": {},
   "number_sections": true,
   "sideBar": true,
   "skip_h1_title": false,
   "title_cell": "Table of Contents",
   "title_sidebar": "Contents",
   "toc_cell": false,
   "toc_position": {},
   "toc_section_display": true,
   "toc_window_display": false
  },
  "varInspector": {
   "cols": {
    "lenName": 16,
    "lenType": 16,
    "lenVar": 40
   },
   "kernels_config": {
    "python": {
     "delete_cmd_postfix": "",
     "delete_cmd_prefix": "del ",
     "library": "var_list.py",
     "varRefreshCmd": "print(var_dic_list())"
    },
    "r": {
     "delete_cmd_postfix": ") ",
     "delete_cmd_prefix": "rm(",
     "library": "var_list.r",
     "varRefreshCmd": "cat(var_dic_list()) "
    }
   },
   "types_to_exclude": [
    "module",
    "function",
    "builtin_function_or_method",
    "instance",
    "_Feature"
   ],
   "window_display": false
  }
 },
 "nbformat": 4,
 "nbformat_minor": 2
}
